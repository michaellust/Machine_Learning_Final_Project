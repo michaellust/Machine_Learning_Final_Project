{
 "cells": [
  {
   "cell_type": "code",
   "execution_count": 804,
   "id": "f8ef18c2",
   "metadata": {},
   "outputs": [],
   "source": [
    "#Michael Lust : 801094861\n",
    "#ECGR 4105 Intro to Machine Learning\n",
    "#December 8, 2021\n",
    "#Final Project"
   ]
  },
  {
   "cell_type": "code",
   "execution_count": 805,
   "id": "6c3763e2",
   "metadata": {},
   "outputs": [],
   "source": [
    "import numpy as np \n",
    "import matplotlib.pyplot as plt \n",
    "import pandas as pd \n",
    "from sklearn.discriminant_analysis import LinearDiscriminantAnalysis \n",
    "from sklearn.metrics import accuracy_score \n",
    "from sklearn.metrics import confusion_matrix \n",
    "from sklearn.datasets import load_breast_cancer "
   ]
  },
  {
   "cell_type": "code",
   "execution_count": 806,
   "id": "b6c4481f",
   "metadata": {},
   "outputs": [],
   "source": [
    "stroke = pd.read_csv(\"dataset_250K.csv\")"
   ]
  },
  {
   "cell_type": "code",
   "execution_count": 807,
   "id": "fa268197",
   "metadata": {},
   "outputs": [
    {
     "data": {
      "text/html": [
       "<div>\n",
       "<style scoped>\n",
       "    .dataframe tbody tr th:only-of-type {\n",
       "        vertical-align: middle;\n",
       "    }\n",
       "\n",
       "    .dataframe tbody tr th {\n",
       "        vertical-align: top;\n",
       "    }\n",
       "\n",
       "    .dataframe thead th {\n",
       "        text-align: right;\n",
       "    }\n",
       "</style>\n",
       "<table border=\"1\" class=\"dataframe\">\n",
       "  <thead>\n",
       "    <tr style=\"text-align: right;\">\n",
       "      <th></th>\n",
       "      <th>Diabetes_012</th>\n",
       "      <th>HighBP</th>\n",
       "      <th>HighChol</th>\n",
       "      <th>CholCheck</th>\n",
       "      <th>BMI</th>\n",
       "      <th>Smoker</th>\n",
       "      <th>Stroke</th>\n",
       "      <th>HeartDiseaseorAttack</th>\n",
       "      <th>PhysActivity</th>\n",
       "      <th>Fruits</th>\n",
       "      <th>...</th>\n",
       "      <th>AnyHealthcare</th>\n",
       "      <th>NoDocbcCost</th>\n",
       "      <th>GenHlth</th>\n",
       "      <th>MentHlth</th>\n",
       "      <th>PhysHlth</th>\n",
       "      <th>DiffWalk</th>\n",
       "      <th>Sex</th>\n",
       "      <th>Age</th>\n",
       "      <th>Education</th>\n",
       "      <th>Income</th>\n",
       "    </tr>\n",
       "  </thead>\n",
       "  <tbody>\n",
       "    <tr>\n",
       "      <th>0</th>\n",
       "      <td>0.0</td>\n",
       "      <td>1.0</td>\n",
       "      <td>1.0</td>\n",
       "      <td>1.0</td>\n",
       "      <td>40.0</td>\n",
       "      <td>1.0</td>\n",
       "      <td>0.0</td>\n",
       "      <td>0.0</td>\n",
       "      <td>0.0</td>\n",
       "      <td>0.0</td>\n",
       "      <td>...</td>\n",
       "      <td>1.0</td>\n",
       "      <td>0.0</td>\n",
       "      <td>5.0</td>\n",
       "      <td>18.0</td>\n",
       "      <td>15.0</td>\n",
       "      <td>1.0</td>\n",
       "      <td>0.0</td>\n",
       "      <td>9.0</td>\n",
       "      <td>4.0</td>\n",
       "      <td>3.0</td>\n",
       "    </tr>\n",
       "    <tr>\n",
       "      <th>1</th>\n",
       "      <td>0.0</td>\n",
       "      <td>0.0</td>\n",
       "      <td>0.0</td>\n",
       "      <td>0.0</td>\n",
       "      <td>25.0</td>\n",
       "      <td>1.0</td>\n",
       "      <td>0.0</td>\n",
       "      <td>0.0</td>\n",
       "      <td>1.0</td>\n",
       "      <td>0.0</td>\n",
       "      <td>...</td>\n",
       "      <td>0.0</td>\n",
       "      <td>1.0</td>\n",
       "      <td>3.0</td>\n",
       "      <td>0.0</td>\n",
       "      <td>0.0</td>\n",
       "      <td>0.0</td>\n",
       "      <td>0.0</td>\n",
       "      <td>7.0</td>\n",
       "      <td>6.0</td>\n",
       "      <td>1.0</td>\n",
       "    </tr>\n",
       "    <tr>\n",
       "      <th>2</th>\n",
       "      <td>0.0</td>\n",
       "      <td>1.0</td>\n",
       "      <td>1.0</td>\n",
       "      <td>1.0</td>\n",
       "      <td>28.0</td>\n",
       "      <td>0.0</td>\n",
       "      <td>0.0</td>\n",
       "      <td>0.0</td>\n",
       "      <td>0.0</td>\n",
       "      <td>1.0</td>\n",
       "      <td>...</td>\n",
       "      <td>1.0</td>\n",
       "      <td>1.0</td>\n",
       "      <td>5.0</td>\n",
       "      <td>30.0</td>\n",
       "      <td>30.0</td>\n",
       "      <td>1.0</td>\n",
       "      <td>0.0</td>\n",
       "      <td>9.0</td>\n",
       "      <td>4.0</td>\n",
       "      <td>8.0</td>\n",
       "    </tr>\n",
       "    <tr>\n",
       "      <th>3</th>\n",
       "      <td>0.0</td>\n",
       "      <td>1.0</td>\n",
       "      <td>0.0</td>\n",
       "      <td>1.0</td>\n",
       "      <td>27.0</td>\n",
       "      <td>0.0</td>\n",
       "      <td>0.0</td>\n",
       "      <td>0.0</td>\n",
       "      <td>1.0</td>\n",
       "      <td>1.0</td>\n",
       "      <td>...</td>\n",
       "      <td>1.0</td>\n",
       "      <td>0.0</td>\n",
       "      <td>2.0</td>\n",
       "      <td>0.0</td>\n",
       "      <td>0.0</td>\n",
       "      <td>0.0</td>\n",
       "      <td>0.0</td>\n",
       "      <td>11.0</td>\n",
       "      <td>3.0</td>\n",
       "      <td>6.0</td>\n",
       "    </tr>\n",
       "    <tr>\n",
       "      <th>4</th>\n",
       "      <td>0.0</td>\n",
       "      <td>1.0</td>\n",
       "      <td>1.0</td>\n",
       "      <td>1.0</td>\n",
       "      <td>24.0</td>\n",
       "      <td>0.0</td>\n",
       "      <td>0.0</td>\n",
       "      <td>0.0</td>\n",
       "      <td>1.0</td>\n",
       "      <td>1.0</td>\n",
       "      <td>...</td>\n",
       "      <td>1.0</td>\n",
       "      <td>0.0</td>\n",
       "      <td>2.0</td>\n",
       "      <td>3.0</td>\n",
       "      <td>0.0</td>\n",
       "      <td>0.0</td>\n",
       "      <td>0.0</td>\n",
       "      <td>11.0</td>\n",
       "      <td>5.0</td>\n",
       "      <td>4.0</td>\n",
       "    </tr>\n",
       "  </tbody>\n",
       "</table>\n",
       "<p>5 rows × 22 columns</p>\n",
       "</div>"
      ],
      "text/plain": [
       "   Diabetes_012  HighBP  HighChol  CholCheck   BMI  Smoker  Stroke  \\\n",
       "0           0.0     1.0       1.0        1.0  40.0     1.0     0.0   \n",
       "1           0.0     0.0       0.0        0.0  25.0     1.0     0.0   \n",
       "2           0.0     1.0       1.0        1.0  28.0     0.0     0.0   \n",
       "3           0.0     1.0       0.0        1.0  27.0     0.0     0.0   \n",
       "4           0.0     1.0       1.0        1.0  24.0     0.0     0.0   \n",
       "\n",
       "   HeartDiseaseorAttack  PhysActivity  Fruits  ...  AnyHealthcare  \\\n",
       "0                   0.0           0.0     0.0  ...            1.0   \n",
       "1                   0.0           1.0     0.0  ...            0.0   \n",
       "2                   0.0           0.0     1.0  ...            1.0   \n",
       "3                   0.0           1.0     1.0  ...            1.0   \n",
       "4                   0.0           1.0     1.0  ...            1.0   \n",
       "\n",
       "   NoDocbcCost  GenHlth  MentHlth  PhysHlth  DiffWalk  Sex   Age  Education  \\\n",
       "0          0.0      5.0      18.0      15.0       1.0  0.0   9.0        4.0   \n",
       "1          1.0      3.0       0.0       0.0       0.0  0.0   7.0        6.0   \n",
       "2          1.0      5.0      30.0      30.0       1.0  0.0   9.0        4.0   \n",
       "3          0.0      2.0       0.0       0.0       0.0  0.0  11.0        3.0   \n",
       "4          0.0      2.0       3.0       0.0       0.0  0.0  11.0        5.0   \n",
       "\n",
       "   Income  \n",
       "0     3.0  \n",
       "1     1.0  \n",
       "2     8.0  \n",
       "3     6.0  \n",
       "4     4.0  \n",
       "\n",
       "[5 rows x 22 columns]"
      ]
     },
     "execution_count": 807,
     "metadata": {},
     "output_type": "execute_result"
    }
   ],
   "source": [
    "stroke.head()"
   ]
  },
  {
   "cell_type": "code",
   "execution_count": 808,
   "id": "d1cf7b1a",
   "metadata": {},
   "outputs": [
    {
     "name": "stdout",
     "output_type": "stream",
     "text": [
      "253680\n"
     ]
    },
    {
     "data": {
      "text/html": [
       "<div>\n",
       "<style scoped>\n",
       "    .dataframe tbody tr th:only-of-type {\n",
       "        vertical-align: middle;\n",
       "    }\n",
       "\n",
       "    .dataframe tbody tr th {\n",
       "        vertical-align: top;\n",
       "    }\n",
       "\n",
       "    .dataframe thead th {\n",
       "        text-align: right;\n",
       "    }\n",
       "</style>\n",
       "<table border=\"1\" class=\"dataframe\">\n",
       "  <thead>\n",
       "    <tr style=\"text-align: right;\">\n",
       "      <th></th>\n",
       "      <th>Diabetes_012</th>\n",
       "      <th>HighBP</th>\n",
       "      <th>HighChol</th>\n",
       "      <th>CholCheck</th>\n",
       "      <th>BMI</th>\n",
       "      <th>Smoker</th>\n",
       "      <th>Stroke</th>\n",
       "      <th>HeartDiseaseorAttack</th>\n",
       "      <th>PhysActivity</th>\n",
       "      <th>Fruits</th>\n",
       "      <th>...</th>\n",
       "      <th>AnyHealthcare</th>\n",
       "      <th>NoDocbcCost</th>\n",
       "      <th>GenHlth</th>\n",
       "      <th>MentHlth</th>\n",
       "      <th>PhysHlth</th>\n",
       "      <th>DiffWalk</th>\n",
       "      <th>Sex</th>\n",
       "      <th>Age</th>\n",
       "      <th>Education</th>\n",
       "      <th>Income</th>\n",
       "    </tr>\n",
       "  </thead>\n",
       "  <tbody>\n",
       "    <tr>\n",
       "      <th>0</th>\n",
       "      <td>0.0</td>\n",
       "      <td>1.0</td>\n",
       "      <td>1.0</td>\n",
       "      <td>1.0</td>\n",
       "      <td>40.0</td>\n",
       "      <td>1.0</td>\n",
       "      <td>0.0</td>\n",
       "      <td>0.0</td>\n",
       "      <td>0.0</td>\n",
       "      <td>0.0</td>\n",
       "      <td>...</td>\n",
       "      <td>1.0</td>\n",
       "      <td>0.0</td>\n",
       "      <td>5.0</td>\n",
       "      <td>18.0</td>\n",
       "      <td>15.0</td>\n",
       "      <td>1.0</td>\n",
       "      <td>0.0</td>\n",
       "      <td>9.0</td>\n",
       "      <td>4.0</td>\n",
       "      <td>3.0</td>\n",
       "    </tr>\n",
       "    <tr>\n",
       "      <th>1</th>\n",
       "      <td>0.0</td>\n",
       "      <td>0.0</td>\n",
       "      <td>0.0</td>\n",
       "      <td>0.0</td>\n",
       "      <td>25.0</td>\n",
       "      <td>1.0</td>\n",
       "      <td>0.0</td>\n",
       "      <td>0.0</td>\n",
       "      <td>1.0</td>\n",
       "      <td>0.0</td>\n",
       "      <td>...</td>\n",
       "      <td>0.0</td>\n",
       "      <td>1.0</td>\n",
       "      <td>3.0</td>\n",
       "      <td>0.0</td>\n",
       "      <td>0.0</td>\n",
       "      <td>0.0</td>\n",
       "      <td>0.0</td>\n",
       "      <td>7.0</td>\n",
       "      <td>6.0</td>\n",
       "      <td>1.0</td>\n",
       "    </tr>\n",
       "    <tr>\n",
       "      <th>2</th>\n",
       "      <td>0.0</td>\n",
       "      <td>1.0</td>\n",
       "      <td>1.0</td>\n",
       "      <td>1.0</td>\n",
       "      <td>28.0</td>\n",
       "      <td>0.0</td>\n",
       "      <td>0.0</td>\n",
       "      <td>0.0</td>\n",
       "      <td>0.0</td>\n",
       "      <td>1.0</td>\n",
       "      <td>...</td>\n",
       "      <td>1.0</td>\n",
       "      <td>1.0</td>\n",
       "      <td>5.0</td>\n",
       "      <td>30.0</td>\n",
       "      <td>30.0</td>\n",
       "      <td>1.0</td>\n",
       "      <td>0.0</td>\n",
       "      <td>9.0</td>\n",
       "      <td>4.0</td>\n",
       "      <td>8.0</td>\n",
       "    </tr>\n",
       "    <tr>\n",
       "      <th>3</th>\n",
       "      <td>0.0</td>\n",
       "      <td>1.0</td>\n",
       "      <td>0.0</td>\n",
       "      <td>1.0</td>\n",
       "      <td>27.0</td>\n",
       "      <td>0.0</td>\n",
       "      <td>0.0</td>\n",
       "      <td>0.0</td>\n",
       "      <td>1.0</td>\n",
       "      <td>1.0</td>\n",
       "      <td>...</td>\n",
       "      <td>1.0</td>\n",
       "      <td>0.0</td>\n",
       "      <td>2.0</td>\n",
       "      <td>0.0</td>\n",
       "      <td>0.0</td>\n",
       "      <td>0.0</td>\n",
       "      <td>0.0</td>\n",
       "      <td>11.0</td>\n",
       "      <td>3.0</td>\n",
       "      <td>6.0</td>\n",
       "    </tr>\n",
       "    <tr>\n",
       "      <th>4</th>\n",
       "      <td>0.0</td>\n",
       "      <td>1.0</td>\n",
       "      <td>1.0</td>\n",
       "      <td>1.0</td>\n",
       "      <td>24.0</td>\n",
       "      <td>0.0</td>\n",
       "      <td>0.0</td>\n",
       "      <td>0.0</td>\n",
       "      <td>1.0</td>\n",
       "      <td>1.0</td>\n",
       "      <td>...</td>\n",
       "      <td>1.0</td>\n",
       "      <td>0.0</td>\n",
       "      <td>2.0</td>\n",
       "      <td>3.0</td>\n",
       "      <td>0.0</td>\n",
       "      <td>0.0</td>\n",
       "      <td>0.0</td>\n",
       "      <td>11.0</td>\n",
       "      <td>5.0</td>\n",
       "      <td>4.0</td>\n",
       "    </tr>\n",
       "    <tr>\n",
       "      <th>5</th>\n",
       "      <td>0.0</td>\n",
       "      <td>1.0</td>\n",
       "      <td>1.0</td>\n",
       "      <td>1.0</td>\n",
       "      <td>25.0</td>\n",
       "      <td>1.0</td>\n",
       "      <td>0.0</td>\n",
       "      <td>0.0</td>\n",
       "      <td>1.0</td>\n",
       "      <td>1.0</td>\n",
       "      <td>...</td>\n",
       "      <td>1.0</td>\n",
       "      <td>0.0</td>\n",
       "      <td>2.0</td>\n",
       "      <td>0.0</td>\n",
       "      <td>2.0</td>\n",
       "      <td>0.0</td>\n",
       "      <td>1.0</td>\n",
       "      <td>10.0</td>\n",
       "      <td>6.0</td>\n",
       "      <td>8.0</td>\n",
       "    </tr>\n",
       "    <tr>\n",
       "      <th>6</th>\n",
       "      <td>0.0</td>\n",
       "      <td>1.0</td>\n",
       "      <td>0.0</td>\n",
       "      <td>1.0</td>\n",
       "      <td>30.0</td>\n",
       "      <td>1.0</td>\n",
       "      <td>0.0</td>\n",
       "      <td>0.0</td>\n",
       "      <td>0.0</td>\n",
       "      <td>0.0</td>\n",
       "      <td>...</td>\n",
       "      <td>1.0</td>\n",
       "      <td>0.0</td>\n",
       "      <td>3.0</td>\n",
       "      <td>0.0</td>\n",
       "      <td>14.0</td>\n",
       "      <td>0.0</td>\n",
       "      <td>0.0</td>\n",
       "      <td>9.0</td>\n",
       "      <td>6.0</td>\n",
       "      <td>7.0</td>\n",
       "    </tr>\n",
       "    <tr>\n",
       "      <th>7</th>\n",
       "      <td>0.0</td>\n",
       "      <td>1.0</td>\n",
       "      <td>1.0</td>\n",
       "      <td>1.0</td>\n",
       "      <td>25.0</td>\n",
       "      <td>1.0</td>\n",
       "      <td>0.0</td>\n",
       "      <td>0.0</td>\n",
       "      <td>1.0</td>\n",
       "      <td>0.0</td>\n",
       "      <td>...</td>\n",
       "      <td>1.0</td>\n",
       "      <td>0.0</td>\n",
       "      <td>3.0</td>\n",
       "      <td>0.0</td>\n",
       "      <td>0.0</td>\n",
       "      <td>1.0</td>\n",
       "      <td>0.0</td>\n",
       "      <td>11.0</td>\n",
       "      <td>4.0</td>\n",
       "      <td>4.0</td>\n",
       "    </tr>\n",
       "    <tr>\n",
       "      <th>8</th>\n",
       "      <td>2.0</td>\n",
       "      <td>1.0</td>\n",
       "      <td>1.0</td>\n",
       "      <td>1.0</td>\n",
       "      <td>30.0</td>\n",
       "      <td>1.0</td>\n",
       "      <td>0.0</td>\n",
       "      <td>1.0</td>\n",
       "      <td>0.0</td>\n",
       "      <td>1.0</td>\n",
       "      <td>...</td>\n",
       "      <td>1.0</td>\n",
       "      <td>0.0</td>\n",
       "      <td>5.0</td>\n",
       "      <td>30.0</td>\n",
       "      <td>30.0</td>\n",
       "      <td>1.0</td>\n",
       "      <td>0.0</td>\n",
       "      <td>9.0</td>\n",
       "      <td>5.0</td>\n",
       "      <td>1.0</td>\n",
       "    </tr>\n",
       "    <tr>\n",
       "      <th>9</th>\n",
       "      <td>0.0</td>\n",
       "      <td>0.0</td>\n",
       "      <td>0.0</td>\n",
       "      <td>1.0</td>\n",
       "      <td>24.0</td>\n",
       "      <td>0.0</td>\n",
       "      <td>0.0</td>\n",
       "      <td>0.0</td>\n",
       "      <td>0.0</td>\n",
       "      <td>0.0</td>\n",
       "      <td>...</td>\n",
       "      <td>1.0</td>\n",
       "      <td>0.0</td>\n",
       "      <td>2.0</td>\n",
       "      <td>0.0</td>\n",
       "      <td>0.0</td>\n",
       "      <td>0.0</td>\n",
       "      <td>1.0</td>\n",
       "      <td>8.0</td>\n",
       "      <td>4.0</td>\n",
       "      <td>3.0</td>\n",
       "    </tr>\n",
       "    <tr>\n",
       "      <th>10</th>\n",
       "      <td>2.0</td>\n",
       "      <td>0.0</td>\n",
       "      <td>0.0</td>\n",
       "      <td>1.0</td>\n",
       "      <td>25.0</td>\n",
       "      <td>1.0</td>\n",
       "      <td>0.0</td>\n",
       "      <td>0.0</td>\n",
       "      <td>1.0</td>\n",
       "      <td>1.0</td>\n",
       "      <td>...</td>\n",
       "      <td>1.0</td>\n",
       "      <td>0.0</td>\n",
       "      <td>3.0</td>\n",
       "      <td>0.0</td>\n",
       "      <td>0.0</td>\n",
       "      <td>0.0</td>\n",
       "      <td>1.0</td>\n",
       "      <td>13.0</td>\n",
       "      <td>6.0</td>\n",
       "      <td>8.0</td>\n",
       "    </tr>\n",
       "    <tr>\n",
       "      <th>11</th>\n",
       "      <td>0.0</td>\n",
       "      <td>1.0</td>\n",
       "      <td>1.0</td>\n",
       "      <td>1.0</td>\n",
       "      <td>34.0</td>\n",
       "      <td>1.0</td>\n",
       "      <td>0.0</td>\n",
       "      <td>0.0</td>\n",
       "      <td>0.0</td>\n",
       "      <td>1.0</td>\n",
       "      <td>...</td>\n",
       "      <td>1.0</td>\n",
       "      <td>0.0</td>\n",
       "      <td>3.0</td>\n",
       "      <td>0.0</td>\n",
       "      <td>30.0</td>\n",
       "      <td>1.0</td>\n",
       "      <td>0.0</td>\n",
       "      <td>10.0</td>\n",
       "      <td>5.0</td>\n",
       "      <td>1.0</td>\n",
       "    </tr>\n",
       "    <tr>\n",
       "      <th>12</th>\n",
       "      <td>0.0</td>\n",
       "      <td>0.0</td>\n",
       "      <td>0.0</td>\n",
       "      <td>1.0</td>\n",
       "      <td>26.0</td>\n",
       "      <td>1.0</td>\n",
       "      <td>0.0</td>\n",
       "      <td>0.0</td>\n",
       "      <td>0.0</td>\n",
       "      <td>0.0</td>\n",
       "      <td>...</td>\n",
       "      <td>1.0</td>\n",
       "      <td>0.0</td>\n",
       "      <td>3.0</td>\n",
       "      <td>0.0</td>\n",
       "      <td>15.0</td>\n",
       "      <td>0.0</td>\n",
       "      <td>0.0</td>\n",
       "      <td>7.0</td>\n",
       "      <td>5.0</td>\n",
       "      <td>7.0</td>\n",
       "    </tr>\n",
       "    <tr>\n",
       "      <th>13</th>\n",
       "      <td>2.0</td>\n",
       "      <td>1.0</td>\n",
       "      <td>1.0</td>\n",
       "      <td>1.0</td>\n",
       "      <td>28.0</td>\n",
       "      <td>0.0</td>\n",
       "      <td>0.0</td>\n",
       "      <td>0.0</td>\n",
       "      <td>0.0</td>\n",
       "      <td>0.0</td>\n",
       "      <td>...</td>\n",
       "      <td>1.0</td>\n",
       "      <td>0.0</td>\n",
       "      <td>4.0</td>\n",
       "      <td>0.0</td>\n",
       "      <td>0.0</td>\n",
       "      <td>1.0</td>\n",
       "      <td>0.0</td>\n",
       "      <td>11.0</td>\n",
       "      <td>4.0</td>\n",
       "      <td>6.0</td>\n",
       "    </tr>\n",
       "    <tr>\n",
       "      <th>14</th>\n",
       "      <td>0.0</td>\n",
       "      <td>0.0</td>\n",
       "      <td>1.0</td>\n",
       "      <td>1.0</td>\n",
       "      <td>33.0</td>\n",
       "      <td>1.0</td>\n",
       "      <td>1.0</td>\n",
       "      <td>0.0</td>\n",
       "      <td>1.0</td>\n",
       "      <td>0.0</td>\n",
       "      <td>...</td>\n",
       "      <td>1.0</td>\n",
       "      <td>1.0</td>\n",
       "      <td>4.0</td>\n",
       "      <td>30.0</td>\n",
       "      <td>28.0</td>\n",
       "      <td>0.0</td>\n",
       "      <td>0.0</td>\n",
       "      <td>4.0</td>\n",
       "      <td>6.0</td>\n",
       "      <td>2.0</td>\n",
       "    </tr>\n",
       "    <tr>\n",
       "      <th>15</th>\n",
       "      <td>0.0</td>\n",
       "      <td>1.0</td>\n",
       "      <td>0.0</td>\n",
       "      <td>1.0</td>\n",
       "      <td>33.0</td>\n",
       "      <td>0.0</td>\n",
       "      <td>0.0</td>\n",
       "      <td>0.0</td>\n",
       "      <td>1.0</td>\n",
       "      <td>0.0</td>\n",
       "      <td>...</td>\n",
       "      <td>1.0</td>\n",
       "      <td>0.0</td>\n",
       "      <td>2.0</td>\n",
       "      <td>5.0</td>\n",
       "      <td>0.0</td>\n",
       "      <td>0.0</td>\n",
       "      <td>0.0</td>\n",
       "      <td>6.0</td>\n",
       "      <td>6.0</td>\n",
       "      <td>8.0</td>\n",
       "    </tr>\n",
       "    <tr>\n",
       "      <th>16</th>\n",
       "      <td>0.0</td>\n",
       "      <td>1.0</td>\n",
       "      <td>1.0</td>\n",
       "      <td>1.0</td>\n",
       "      <td>21.0</td>\n",
       "      <td>0.0</td>\n",
       "      <td>0.0</td>\n",
       "      <td>0.0</td>\n",
       "      <td>1.0</td>\n",
       "      <td>1.0</td>\n",
       "      <td>...</td>\n",
       "      <td>1.0</td>\n",
       "      <td>0.0</td>\n",
       "      <td>3.0</td>\n",
       "      <td>0.0</td>\n",
       "      <td>0.0</td>\n",
       "      <td>0.0</td>\n",
       "      <td>0.0</td>\n",
       "      <td>10.0</td>\n",
       "      <td>4.0</td>\n",
       "      <td>3.0</td>\n",
       "    </tr>\n",
       "    <tr>\n",
       "      <th>17</th>\n",
       "      <td>2.0</td>\n",
       "      <td>0.0</td>\n",
       "      <td>0.0</td>\n",
       "      <td>1.0</td>\n",
       "      <td>23.0</td>\n",
       "      <td>1.0</td>\n",
       "      <td>0.0</td>\n",
       "      <td>0.0</td>\n",
       "      <td>1.0</td>\n",
       "      <td>0.0</td>\n",
       "      <td>...</td>\n",
       "      <td>1.0</td>\n",
       "      <td>0.0</td>\n",
       "      <td>2.0</td>\n",
       "      <td>0.0</td>\n",
       "      <td>0.0</td>\n",
       "      <td>0.0</td>\n",
       "      <td>1.0</td>\n",
       "      <td>7.0</td>\n",
       "      <td>5.0</td>\n",
       "      <td>6.0</td>\n",
       "    </tr>\n",
       "    <tr>\n",
       "      <th>18</th>\n",
       "      <td>0.0</td>\n",
       "      <td>0.0</td>\n",
       "      <td>0.0</td>\n",
       "      <td>0.0</td>\n",
       "      <td>23.0</td>\n",
       "      <td>0.0</td>\n",
       "      <td>0.0</td>\n",
       "      <td>0.0</td>\n",
       "      <td>0.0</td>\n",
       "      <td>0.0</td>\n",
       "      <td>...</td>\n",
       "      <td>1.0</td>\n",
       "      <td>0.0</td>\n",
       "      <td>2.0</td>\n",
       "      <td>15.0</td>\n",
       "      <td>0.0</td>\n",
       "      <td>0.0</td>\n",
       "      <td>0.0</td>\n",
       "      <td>2.0</td>\n",
       "      <td>6.0</td>\n",
       "      <td>7.0</td>\n",
       "    </tr>\n",
       "    <tr>\n",
       "      <th>19</th>\n",
       "      <td>0.0</td>\n",
       "      <td>0.0</td>\n",
       "      <td>1.0</td>\n",
       "      <td>1.0</td>\n",
       "      <td>28.0</td>\n",
       "      <td>0.0</td>\n",
       "      <td>0.0</td>\n",
       "      <td>0.0</td>\n",
       "      <td>0.0</td>\n",
       "      <td>0.0</td>\n",
       "      <td>...</td>\n",
       "      <td>1.0</td>\n",
       "      <td>0.0</td>\n",
       "      <td>2.0</td>\n",
       "      <td>10.0</td>\n",
       "      <td>0.0</td>\n",
       "      <td>0.0</td>\n",
       "      <td>1.0</td>\n",
       "      <td>4.0</td>\n",
       "      <td>6.0</td>\n",
       "      <td>8.0</td>\n",
       "    </tr>\n",
       "  </tbody>\n",
       "</table>\n",
       "<p>20 rows × 22 columns</p>\n",
       "</div>"
      ],
      "text/plain": [
       "    Diabetes_012  HighBP  HighChol  CholCheck   BMI  Smoker  Stroke  \\\n",
       "0            0.0     1.0       1.0        1.0  40.0     1.0     0.0   \n",
       "1            0.0     0.0       0.0        0.0  25.0     1.0     0.0   \n",
       "2            0.0     1.0       1.0        1.0  28.0     0.0     0.0   \n",
       "3            0.0     1.0       0.0        1.0  27.0     0.0     0.0   \n",
       "4            0.0     1.0       1.0        1.0  24.0     0.0     0.0   \n",
       "5            0.0     1.0       1.0        1.0  25.0     1.0     0.0   \n",
       "6            0.0     1.0       0.0        1.0  30.0     1.0     0.0   \n",
       "7            0.0     1.0       1.0        1.0  25.0     1.0     0.0   \n",
       "8            2.0     1.0       1.0        1.0  30.0     1.0     0.0   \n",
       "9            0.0     0.0       0.0        1.0  24.0     0.0     0.0   \n",
       "10           2.0     0.0       0.0        1.0  25.0     1.0     0.0   \n",
       "11           0.0     1.0       1.0        1.0  34.0     1.0     0.0   \n",
       "12           0.0     0.0       0.0        1.0  26.0     1.0     0.0   \n",
       "13           2.0     1.0       1.0        1.0  28.0     0.0     0.0   \n",
       "14           0.0     0.0       1.0        1.0  33.0     1.0     1.0   \n",
       "15           0.0     1.0       0.0        1.0  33.0     0.0     0.0   \n",
       "16           0.0     1.0       1.0        1.0  21.0     0.0     0.0   \n",
       "17           2.0     0.0       0.0        1.0  23.0     1.0     0.0   \n",
       "18           0.0     0.0       0.0        0.0  23.0     0.0     0.0   \n",
       "19           0.0     0.0       1.0        1.0  28.0     0.0     0.0   \n",
       "\n",
       "    HeartDiseaseorAttack  PhysActivity  Fruits  ...  AnyHealthcare  \\\n",
       "0                    0.0           0.0     0.0  ...            1.0   \n",
       "1                    0.0           1.0     0.0  ...            0.0   \n",
       "2                    0.0           0.0     1.0  ...            1.0   \n",
       "3                    0.0           1.0     1.0  ...            1.0   \n",
       "4                    0.0           1.0     1.0  ...            1.0   \n",
       "5                    0.0           1.0     1.0  ...            1.0   \n",
       "6                    0.0           0.0     0.0  ...            1.0   \n",
       "7                    0.0           1.0     0.0  ...            1.0   \n",
       "8                    1.0           0.0     1.0  ...            1.0   \n",
       "9                    0.0           0.0     0.0  ...            1.0   \n",
       "10                   0.0           1.0     1.0  ...            1.0   \n",
       "11                   0.0           0.0     1.0  ...            1.0   \n",
       "12                   0.0           0.0     0.0  ...            1.0   \n",
       "13                   0.0           0.0     0.0  ...            1.0   \n",
       "14                   0.0           1.0     0.0  ...            1.0   \n",
       "15                   0.0           1.0     0.0  ...            1.0   \n",
       "16                   0.0           1.0     1.0  ...            1.0   \n",
       "17                   0.0           1.0     0.0  ...            1.0   \n",
       "18                   0.0           0.0     0.0  ...            1.0   \n",
       "19                   0.0           0.0     0.0  ...            1.0   \n",
       "\n",
       "    NoDocbcCost  GenHlth  MentHlth  PhysHlth  DiffWalk  Sex   Age  Education  \\\n",
       "0           0.0      5.0      18.0      15.0       1.0  0.0   9.0        4.0   \n",
       "1           1.0      3.0       0.0       0.0       0.0  0.0   7.0        6.0   \n",
       "2           1.0      5.0      30.0      30.0       1.0  0.0   9.0        4.0   \n",
       "3           0.0      2.0       0.0       0.0       0.0  0.0  11.0        3.0   \n",
       "4           0.0      2.0       3.0       0.0       0.0  0.0  11.0        5.0   \n",
       "5           0.0      2.0       0.0       2.0       0.0  1.0  10.0        6.0   \n",
       "6           0.0      3.0       0.0      14.0       0.0  0.0   9.0        6.0   \n",
       "7           0.0      3.0       0.0       0.0       1.0  0.0  11.0        4.0   \n",
       "8           0.0      5.0      30.0      30.0       1.0  0.0   9.0        5.0   \n",
       "9           0.0      2.0       0.0       0.0       0.0  1.0   8.0        4.0   \n",
       "10          0.0      3.0       0.0       0.0       0.0  1.0  13.0        6.0   \n",
       "11          0.0      3.0       0.0      30.0       1.0  0.0  10.0        5.0   \n",
       "12          0.0      3.0       0.0      15.0       0.0  0.0   7.0        5.0   \n",
       "13          0.0      4.0       0.0       0.0       1.0  0.0  11.0        4.0   \n",
       "14          1.0      4.0      30.0      28.0       0.0  0.0   4.0        6.0   \n",
       "15          0.0      2.0       5.0       0.0       0.0  0.0   6.0        6.0   \n",
       "16          0.0      3.0       0.0       0.0       0.0  0.0  10.0        4.0   \n",
       "17          0.0      2.0       0.0       0.0       0.0  1.0   7.0        5.0   \n",
       "18          0.0      2.0      15.0       0.0       0.0  0.0   2.0        6.0   \n",
       "19          0.0      2.0      10.0       0.0       0.0  1.0   4.0        6.0   \n",
       "\n",
       "    Income  \n",
       "0      3.0  \n",
       "1      1.0  \n",
       "2      8.0  \n",
       "3      6.0  \n",
       "4      4.0  \n",
       "5      8.0  \n",
       "6      7.0  \n",
       "7      4.0  \n",
       "8      1.0  \n",
       "9      3.0  \n",
       "10     8.0  \n",
       "11     1.0  \n",
       "12     7.0  \n",
       "13     6.0  \n",
       "14     2.0  \n",
       "15     8.0  \n",
       "16     3.0  \n",
       "17     6.0  \n",
       "18     7.0  \n",
       "19     8.0  \n",
       "\n",
       "[20 rows x 22 columns]"
      ]
     },
     "execution_count": 808,
     "metadata": {},
     "output_type": "execute_result"
    }
   ],
   "source": [
    "M = len(stroke)\n",
    "print(M)\n",
    "stroke.head(20)"
   ]
  },
  {
   "cell_type": "code",
   "execution_count": 809,
   "id": "9ef47b30",
   "metadata": {},
   "outputs": [
    {
     "data": {
      "text/html": [
       "<div>\n",
       "<style scoped>\n",
       "    .dataframe tbody tr th:only-of-type {\n",
       "        vertical-align: middle;\n",
       "    }\n",
       "\n",
       "    .dataframe tbody tr th {\n",
       "        vertical-align: top;\n",
       "    }\n",
       "\n",
       "    .dataframe thead th {\n",
       "        text-align: right;\n",
       "    }\n",
       "</style>\n",
       "<table border=\"1\" class=\"dataframe\">\n",
       "  <thead>\n",
       "    <tr style=\"text-align: right;\">\n",
       "      <th></th>\n",
       "      <th>Diabetes_012</th>\n",
       "      <th>HighBP</th>\n",
       "      <th>HighChol</th>\n",
       "      <th>CholCheck</th>\n",
       "      <th>BMI</th>\n",
       "      <th>Smoker</th>\n",
       "      <th>Stroke</th>\n",
       "      <th>HeartDiseaseorAttack</th>\n",
       "      <th>PhysActivity</th>\n",
       "      <th>Fruits</th>\n",
       "      <th>...</th>\n",
       "      <th>AnyHealthcare</th>\n",
       "      <th>NoDocbcCost</th>\n",
       "      <th>GenHlth</th>\n",
       "      <th>MentHlth</th>\n",
       "      <th>PhysHlth</th>\n",
       "      <th>DiffWalk</th>\n",
       "      <th>Sex</th>\n",
       "      <th>Age</th>\n",
       "      <th>Education</th>\n",
       "      <th>Income</th>\n",
       "    </tr>\n",
       "  </thead>\n",
       "  <tbody>\n",
       "    <tr>\n",
       "      <th>0</th>\n",
       "      <td>0.0</td>\n",
       "      <td>1.0</td>\n",
       "      <td>1.0</td>\n",
       "      <td>1.0</td>\n",
       "      <td>40.0</td>\n",
       "      <td>1.0</td>\n",
       "      <td>0.0</td>\n",
       "      <td>0.0</td>\n",
       "      <td>0.0</td>\n",
       "      <td>0.0</td>\n",
       "      <td>...</td>\n",
       "      <td>1.0</td>\n",
       "      <td>0.0</td>\n",
       "      <td>5.0</td>\n",
       "      <td>18.0</td>\n",
       "      <td>15.0</td>\n",
       "      <td>1.0</td>\n",
       "      <td>0.0</td>\n",
       "      <td>9.0</td>\n",
       "      <td>4.0</td>\n",
       "      <td>3.0</td>\n",
       "    </tr>\n",
       "    <tr>\n",
       "      <th>1</th>\n",
       "      <td>0.0</td>\n",
       "      <td>0.0</td>\n",
       "      <td>0.0</td>\n",
       "      <td>0.0</td>\n",
       "      <td>25.0</td>\n",
       "      <td>1.0</td>\n",
       "      <td>0.0</td>\n",
       "      <td>0.0</td>\n",
       "      <td>1.0</td>\n",
       "      <td>0.0</td>\n",
       "      <td>...</td>\n",
       "      <td>0.0</td>\n",
       "      <td>1.0</td>\n",
       "      <td>3.0</td>\n",
       "      <td>0.0</td>\n",
       "      <td>0.0</td>\n",
       "      <td>0.0</td>\n",
       "      <td>0.0</td>\n",
       "      <td>7.0</td>\n",
       "      <td>6.0</td>\n",
       "      <td>1.0</td>\n",
       "    </tr>\n",
       "    <tr>\n",
       "      <th>2</th>\n",
       "      <td>0.0</td>\n",
       "      <td>1.0</td>\n",
       "      <td>1.0</td>\n",
       "      <td>1.0</td>\n",
       "      <td>28.0</td>\n",
       "      <td>0.0</td>\n",
       "      <td>0.0</td>\n",
       "      <td>0.0</td>\n",
       "      <td>0.0</td>\n",
       "      <td>1.0</td>\n",
       "      <td>...</td>\n",
       "      <td>1.0</td>\n",
       "      <td>1.0</td>\n",
       "      <td>5.0</td>\n",
       "      <td>30.0</td>\n",
       "      <td>30.0</td>\n",
       "      <td>1.0</td>\n",
       "      <td>0.0</td>\n",
       "      <td>9.0</td>\n",
       "      <td>4.0</td>\n",
       "      <td>8.0</td>\n",
       "    </tr>\n",
       "    <tr>\n",
       "      <th>3</th>\n",
       "      <td>0.0</td>\n",
       "      <td>1.0</td>\n",
       "      <td>0.0</td>\n",
       "      <td>1.0</td>\n",
       "      <td>27.0</td>\n",
       "      <td>0.0</td>\n",
       "      <td>0.0</td>\n",
       "      <td>0.0</td>\n",
       "      <td>1.0</td>\n",
       "      <td>1.0</td>\n",
       "      <td>...</td>\n",
       "      <td>1.0</td>\n",
       "      <td>0.0</td>\n",
       "      <td>2.0</td>\n",
       "      <td>0.0</td>\n",
       "      <td>0.0</td>\n",
       "      <td>0.0</td>\n",
       "      <td>0.0</td>\n",
       "      <td>11.0</td>\n",
       "      <td>3.0</td>\n",
       "      <td>6.0</td>\n",
       "    </tr>\n",
       "    <tr>\n",
       "      <th>4</th>\n",
       "      <td>0.0</td>\n",
       "      <td>1.0</td>\n",
       "      <td>1.0</td>\n",
       "      <td>1.0</td>\n",
       "      <td>24.0</td>\n",
       "      <td>0.0</td>\n",
       "      <td>0.0</td>\n",
       "      <td>0.0</td>\n",
       "      <td>1.0</td>\n",
       "      <td>1.0</td>\n",
       "      <td>...</td>\n",
       "      <td>1.0</td>\n",
       "      <td>0.0</td>\n",
       "      <td>2.0</td>\n",
       "      <td>3.0</td>\n",
       "      <td>0.0</td>\n",
       "      <td>0.0</td>\n",
       "      <td>0.0</td>\n",
       "      <td>11.0</td>\n",
       "      <td>5.0</td>\n",
       "      <td>4.0</td>\n",
       "    </tr>\n",
       "  </tbody>\n",
       "</table>\n",
       "<p>5 rows × 22 columns</p>\n",
       "</div>"
      ],
      "text/plain": [
       "   Diabetes_012  HighBP  HighChol  CholCheck   BMI  Smoker  Stroke  \\\n",
       "0           0.0     1.0       1.0        1.0  40.0     1.0     0.0   \n",
       "1           0.0     0.0       0.0        0.0  25.0     1.0     0.0   \n",
       "2           0.0     1.0       1.0        1.0  28.0     0.0     0.0   \n",
       "3           0.0     1.0       0.0        1.0  27.0     0.0     0.0   \n",
       "4           0.0     1.0       1.0        1.0  24.0     0.0     0.0   \n",
       "\n",
       "   HeartDiseaseorAttack  PhysActivity  Fruits  ...  AnyHealthcare  \\\n",
       "0                   0.0           0.0     0.0  ...            1.0   \n",
       "1                   0.0           1.0     0.0  ...            0.0   \n",
       "2                   0.0           0.0     1.0  ...            1.0   \n",
       "3                   0.0           1.0     1.0  ...            1.0   \n",
       "4                   0.0           1.0     1.0  ...            1.0   \n",
       "\n",
       "   NoDocbcCost  GenHlth  MentHlth  PhysHlth  DiffWalk  Sex   Age  Education  \\\n",
       "0          0.0      5.0      18.0      15.0       1.0  0.0   9.0        4.0   \n",
       "1          1.0      3.0       0.0       0.0       0.0  0.0   7.0        6.0   \n",
       "2          1.0      5.0      30.0      30.0       1.0  0.0   9.0        4.0   \n",
       "3          0.0      2.0       0.0       0.0       0.0  0.0  11.0        3.0   \n",
       "4          0.0      2.0       3.0       0.0       0.0  0.0  11.0        5.0   \n",
       "\n",
       "   Income  \n",
       "0     3.0  \n",
       "1     1.0  \n",
       "2     8.0  \n",
       "3     6.0  \n",
       "4     4.0  \n",
       "\n",
       "[5 rows x 22 columns]"
      ]
     },
     "execution_count": 809,
     "metadata": {},
     "output_type": "execute_result"
    }
   ],
   "source": [
    "stroke.head()"
   ]
  },
  {
   "cell_type": "code",
   "execution_count": 810,
   "id": "76d5cece",
   "metadata": {},
   "outputs": [
    {
     "data": {
      "text/plain": [
       "array([[ 0.,  1.,  1.,  1., 40.,  1.,  0.,  0.,  0.,  1.,  0.,  1.,  0.,\n",
       "         5., 18., 15.,  1.,  0.,  9.,  4.,  3.],\n",
       "       [ 0.,  0.,  0.,  0., 25.,  1.,  0.,  1.,  0.,  0.,  0.,  0.,  1.,\n",
       "         3.,  0.,  0.,  0.,  0.,  7.,  6.,  1.]])"
      ]
     },
     "execution_count": 810,
     "metadata": {},
     "output_type": "execute_result"
    }
   ],
   "source": [
    "#Our Data set will consider Independent variables (X1-X21) and Label as Dependent (Y). \n",
    "X=stroke.iloc[:,[0,1,2,3,4,5,7,8,9,10,11,12,13,14,15,16,17,18,19,20,21]].values\n",
    "Y=stroke.iloc[:,6].values #Stroke outcomes\n",
    "#see here: https://pandas.pydata.org/pandas-docs/stable/reference/api/pandas.DataFrame.\n",
    "X[0:2] #Shows the Array"
   ]
  },
  {
   "cell_type": "code",
   "execution_count": 811,
   "id": "bacfc999",
   "metadata": {},
   "outputs": [
    {
     "data": {
      "text/plain": [
       "array([0., 0., 0., 0., 0., 0., 0., 0., 0., 0.])"
      ]
     },
     "execution_count": 811,
     "metadata": {},
     "output_type": "execute_result"
    }
   ],
   "source": [
    "Y[0:10] #Shows the outcome of either Benign or Malignant"
   ]
  },
  {
   "cell_type": "code",
   "execution_count": 812,
   "id": "8d2818c1",
   "metadata": {},
   "outputs": [
    {
     "data": {
      "text/plain": [
       "(202944, 21)"
      ]
     },
     "execution_count": 812,
     "metadata": {},
     "output_type": "execute_result"
    }
   ],
   "source": [
    "#Now we’ll split our Data set into Training Data and Test Data.\n",
    "#Logistic model and Test data will be used to validate our model. We’ll use Sklearn.\n",
    "from sklearn.model_selection import train_test_split\n",
    "\n",
    "np.random.seed(0)\n",
    "X_train, X_test, Y_train, Y_test = train_test_split(X,Y,train_size = 0.8, test_size = 0.2, random_state = 1)\n",
    "X_train.shape"
   ]
  },
  {
   "cell_type": "code",
   "execution_count": 813,
   "id": "f6744661",
   "metadata": {},
   "outputs": [],
   "source": [
    "#Problem 1-a Logistic Regression Model"
   ]
  },
  {
   "cell_type": "code",
   "execution_count": 814,
   "id": "5c77e9eb",
   "metadata": {},
   "outputs": [],
   "source": [
    "#Now we’ll do feature scaling to scale our data between -1 and 1 using standardization.\n",
    "#Here Scaling is important because there is a significant difference between explanatory variables.\n",
    "from sklearn.preprocessing import StandardScaler, MinMaxScaler \n",
    "#scalar_X = StandardScaler()\n",
    "scalar_X = MinMaxScaler()\n",
    "X_train = scalar_X.fit_transform(X_train) #New X_train is scaled\n",
    "X_test = scalar_X.transform(X_test) #New X_test is scaled"
   ]
  },
  {
   "cell_type": "code",
   "execution_count": 815,
   "id": "05805fc2",
   "metadata": {},
   "outputs": [
    {
     "data": {
      "text/plain": [
       "array([[0.        , 1.        , 0.        , 1.        , 0.30232558,\n",
       "        1.        , 0.        , 1.        , 1.        , 1.        ,\n",
       "        0.        , 1.        , 0.        , 0.5       , 0.        ,\n",
       "        0.        , 0.        , 0.        , 0.91666667, 0.8       ,\n",
       "        1.        ],\n",
       "       [0.        , 0.        , 1.        , 1.        , 0.15116279,\n",
       "        1.        , 0.        , 1.        , 0.        , 1.        ,\n",
       "        0.        , 1.        , 0.        , 0.5       , 0.5       ,\n",
       "        0.1       , 1.        , 0.        , 0.66666667, 1.        ,\n",
       "        0.85714286]])"
      ]
     },
     "execution_count": 815,
     "metadata": {},
     "output_type": "execute_result"
    }
   ],
   "source": [
    "X_train[0:2] #Checking the scaling of training set"
   ]
  },
  {
   "cell_type": "code",
   "execution_count": 816,
   "id": "f83d293e",
   "metadata": {},
   "outputs": [
    {
     "data": {
      "text/plain": [
       "array([[0.        , 1.        , 0.        , 1.        , 0.12790698,\n",
       "        1.        , 0.        , 1.        , 1.        , 1.        ,\n",
       "        1.        , 1.        , 0.        , 0.25      , 0.        ,\n",
       "        0.        , 0.        , 0.        , 1.        , 1.        ,\n",
       "        0.71428571],\n",
       "       [1.        , 0.        , 0.        , 1.        , 0.11627907,\n",
       "        1.        , 1.        , 1.        , 1.        , 1.        ,\n",
       "        1.        , 1.        , 0.        , 0.25      , 0.        ,\n",
       "        0.16666667, 0.        , 1.        , 0.66666667, 1.        ,\n",
       "        1.        ]])"
      ]
     },
     "execution_count": 816,
     "metadata": {},
     "output_type": "execute_result"
    }
   ],
   "source": [
    "X_test[0:2] #Checking the scaling of testing set"
   ]
  },
  {
   "cell_type": "code",
   "execution_count": 817,
   "id": "20c33172",
   "metadata": {},
   "outputs": [
    {
     "data": {
      "text/plain": [
       "LogisticRegression(random_state=0)"
      ]
     },
     "execution_count": 817,
     "metadata": {},
     "output_type": "execute_result"
    }
   ],
   "source": [
    "#Import LogisticRegression from sklearn.linear_model\n",
    "#Make an instance classifier of the object LogisticRegression and give random_state = 0 \n",
    "from sklearn.linear_model import LogisticRegression\n",
    "classifier_L = LogisticRegression(random_state=0)\n",
    "classifier_L.fit(X_train,Y_train)"
   ]
  },
  {
   "cell_type": "code",
   "execution_count": 818,
   "id": "389f95c9",
   "metadata": {},
   "outputs": [],
   "source": [
    "Y_pred = classifier_L.predict(X_test)"
   ]
  },
  {
   "cell_type": "code",
   "execution_count": 819,
   "id": "cc218764",
   "metadata": {},
   "outputs": [
    {
     "data": {
      "text/plain": [
       "array([0., 0., 0., 0., 0., 0., 0., 0., 0., 0., 0., 0., 0., 0., 0., 0., 0.,\n",
       "       0., 0., 0., 0., 0., 0., 0., 0., 0., 0., 0., 0., 0.])"
      ]
     },
     "execution_count": 819,
     "metadata": {},
     "output_type": "execute_result"
    }
   ],
   "source": [
    "Y_pred[0:30] #Checking Outcome from testing set"
   ]
  },
  {
   "cell_type": "code",
   "execution_count": 820,
   "id": "85f4fd17",
   "metadata": {},
   "outputs": [
    {
     "data": {
      "text/plain": [
       "array([[48655,    11],\n",
       "       [ 2053,    17]], dtype=int64)"
      ]
     },
     "execution_count": 820,
     "metadata": {},
     "output_type": "execute_result"
    }
   ],
   "source": [
    "#Using Confusion matrix representing binary classifiers so we can get accuracy of our model.\n",
    "from sklearn.metrics import confusion_matrix \n",
    "cnf_matrix = confusion_matrix(Y_test,Y_pred)\n",
    "cnf_matrix"
   ]
  },
  {
   "cell_type": "code",
   "execution_count": 821,
   "id": "eea14931",
   "metadata": {},
   "outputs": [
    {
     "name": "stdout",
     "output_type": "stream",
     "text": [
      "Accuracy: 0.9593188268684958\n",
      "Precision: 0.6071428571428571\n",
      "Recall: 0.00821256038647343\n"
     ]
    }
   ],
   "source": [
    "#We are evaluating the model using model evaluation metrics for accuracy.\n",
    "#Accuracy over loss is what needs to be plotted\n",
    "#Prediction and recall do not function with Y values or outcomes as string values.\n",
    "from sklearn import metrics\n",
    "print(\"Accuracy:\",metrics.accuracy_score(Y_test,Y_pred))\n",
    "print(\"Precision:\",metrics.precision_score(Y_test,Y_pred))\n",
    "print(\"Recall:\",metrics.recall_score(Y_test,Y_pred))"
   ]
  },
  {
   "cell_type": "code",
   "execution_count": 822,
   "id": "89271c44",
   "metadata": {},
   "outputs": [
    {
     "data": {
      "text/plain": [
       "Text(0.5, 257.44, 'Predicted label')"
      ]
     },
     "execution_count": 822,
     "metadata": {},
     "output_type": "execute_result"
    },
    {
     "data": {
      "image/png": "[encoded data removed]",
      "text/plain": [
       "<Figure size 432x288 with 2 Axes>"
      ]
     },
     "metadata": {
      "needs_background": "light"
     },
     "output_type": "display_data"
    }
   ],
   "source": [
    "#Plotting the confusion matrix:\n",
    "import seaborn as sns \n",
    "class_names = [0,1] # name of classes\n",
    "fig, ax = plt.subplots()\n",
    "tick_marks = np.arange(len(class_names))\n",
    "plt.xticks(tick_marks,class_names)\n",
    "plt.yticks(tick_marks,class_names)# create heatmap\n",
    "sns.heatmap(pd.DataFrame(cnf_matrix), annot = True, cmap = \"YlGnBu\", fmt = 'g')\n",
    "ax.xaxis.set_label_position(\"top\")\n",
    "plt.tight_layout()\n",
    "plt.title('Confusion matrix',y = 1.1)\n",
    "plt.ylabel('Actual label')\n",
    "plt.xlabel('Predicted label')"
   ]
  },
  {
   "cell_type": "code",
   "execution_count": 823,
   "id": "309e094c",
   "metadata": {},
   "outputs": [],
   "source": [
    "#Problem 1-b Naive Bays Model"
   ]
  },
  {
   "cell_type": "code",
   "execution_count": 824,
   "id": "cf508f3c",
   "metadata": {},
   "outputs": [
    {
     "data": {
      "text/plain": [
       "array([[ 0.,  1.,  1.,  1., 40.,  1.,  0.,  0.,  0.,  1.,  0.,  1.,  0.,\n",
       "         5., 18., 15.,  1.,  0.,  9.,  4.,  3.],\n",
       "       [ 0.,  0.,  0.,  0., 25.,  1.,  0.,  1.,  0.,  0.,  0.,  0.,  1.,\n",
       "         3.,  0.,  0.,  0.,  0.,  7.,  6.,  1.]])"
      ]
     },
     "execution_count": 824,
     "metadata": {},
     "output_type": "execute_result"
    }
   ],
   "source": [
    "#Our Data set will consider Independent variables (X1-X30) and Label as Dependent (Y). \n",
    "X=stroke.iloc[:,[0,1,2,3,4,5,7,8,9,10,11,12,13,14,15,16,17,18,19,20,21]].values\n",
    "Y=stroke.iloc[:,6].values #Stroke outcomes\n",
    "#see here: https://pandas.pydata.org/pandas-docs/stable/reference/api/pandas.DataFrame.\n",
    "X[0:2] #Shows the Array"
   ]
  },
  {
   "cell_type": "code",
   "execution_count": 825,
   "id": "c7ccc498",
   "metadata": {},
   "outputs": [
    {
     "data": {
      "text/plain": [
       "array([0., 0., 0., 0., 0., 0., 0., 0.])"
      ]
     },
     "execution_count": 825,
     "metadata": {},
     "output_type": "execute_result"
    }
   ],
   "source": [
    "Y[0:8] #Shows the outcome of either Benign or Malignant"
   ]
  },
  {
   "cell_type": "code",
   "execution_count": 826,
   "id": "ce17ae39",
   "metadata": {},
   "outputs": [
    {
     "data": {
      "text/plain": [
       "(202944, 21)"
      ]
     },
     "execution_count": 826,
     "metadata": {},
     "output_type": "execute_result"
    }
   ],
   "source": [
    "#Now we’ll split our Data set into Training Data and Test Data.\n",
    "#Logistic model and Test data will be used to validate our model. We’ll use Sklearn.\n",
    "from sklearn.model_selection import train_test_split\n",
    "\n",
    "np.random.seed(0)\n",
    "X_train, X_test, Y_train, Y_test = train_test_split(X,Y,train_size =0.8, test_size = 0.2, random_state = 1)\n",
    "X_train.shape"
   ]
  },
  {
   "cell_type": "code",
   "execution_count": 827,
   "id": "54000453",
   "metadata": {},
   "outputs": [],
   "source": [
    "#Now we’ll do feature scaling to scale our data between -1 and 1 using standardization.\n",
    "#Here Scaling is important because there is a significant difference between explanatory variables.\n",
    "#scalar_X = StandardScaler()\n",
    "scalar_X = MinMaxScaler()\n",
    "X_train = scalar_X.fit_transform(X_train) #New X_train is scaled\n",
    "X_test = scalar_X.transform(X_test) #New X_test is scaled"
   ]
  },
  {
   "cell_type": "code",
   "execution_count": 828,
   "id": "b61184d3",
   "metadata": {},
   "outputs": [
    {
     "data": {
      "text/plain": [
       "GaussianNB()"
      ]
     },
     "execution_count": 828,
     "metadata": {},
     "output_type": "execute_result"
    }
   ],
   "source": [
    "#Import Naive Bays from sklearn.naive_bayes\n",
    "#Make an instance classifier of the object Naive Bayes and give random_state = 0 \n",
    "from sklearn.naive_bayes import GaussianNB\n",
    "classifier_G = GaussianNB()\n",
    "classifier_G.fit(X_train,Y_train)"
   ]
  },
  {
   "cell_type": "code",
   "execution_count": 829,
   "id": "82f3c6e2",
   "metadata": {},
   "outputs": [
    {
     "data": {
      "text/plain": [
       "array([0., 0., 0., ..., 1., 0., 0.])"
      ]
     },
     "execution_count": 829,
     "metadata": {},
     "output_type": "execute_result"
    }
   ],
   "source": [
    "Y_pred = classifier_G.predict(X_test)\n",
    "Y_pred"
   ]
  },
  {
   "cell_type": "code",
   "execution_count": 830,
   "id": "1a063084",
   "metadata": {},
   "outputs": [
    {
     "data": {
      "text/plain": [
       "array([[41565,  7101],\n",
       "       [  932,  1138]], dtype=int64)"
      ]
     },
     "execution_count": 830,
     "metadata": {},
     "output_type": "execute_result"
    }
   ],
   "source": [
    "#Using Confusion matrix representing binary classifiers so we can get accuracy of our model.\n",
    "from sklearn.metrics import confusion_matrix \n",
    "cnf_matrix = confusion_matrix(Y_test,Y_pred)\n",
    "cnf_matrix"
   ]
  },
  {
   "cell_type": "code",
   "execution_count": 831,
   "id": "7294c631",
   "metadata": {},
   "outputs": [
    {
     "name": "stdout",
     "output_type": "stream",
     "text": [
      "Accuracy: 0.8416706086408073\n",
      "Precision: 0.13812355868430634\n",
      "Recall: 0.5497584541062802\n"
     ]
    }
   ],
   "source": [
    "#We are evaluating the model using model evaluation metrics for accuracy.\n",
    "#Accuracy over loss is what needs to be plotted\n",
    "#Prediction and recall do not function with Y values or outcomes as string values.\n",
    "print(\"Accuracy:\",metrics.accuracy_score(Y_test,Y_pred))\n",
    "print(\"Precision:\",metrics.precision_score(Y_test,Y_pred))\n",
    "print(\"Recall:\",metrics.recall_score(Y_test,Y_pred))"
   ]
  },
  {
   "cell_type": "code",
   "execution_count": 832,
   "id": "04798e0d",
   "metadata": {},
   "outputs": [
    {
     "data": {
      "text/plain": [
       "Text(0.5, 257.44, 'Predicted label')"
      ]
     },
     "execution_count": 832,
     "metadata": {},
     "output_type": "execute_result"
    },
    {
     "data": {
      "image/png": "[encoded data removed]",
      "text/plain": [
       "<Figure size 432x288 with 2 Axes>"
      ]
     },
     "metadata": {
      "needs_background": "light"
     },
     "output_type": "display_data"
    }
   ],
   "source": [
    "#Plotting the confusion matrix:\n",
    "import seaborn as sns \n",
    "class_names = [0,1] # name of classes\n",
    "fig, ax = plt.subplots()\n",
    "tick_marks = np.arange(len(class_names))\n",
    "plt.xticks(tick_marks,class_names)\n",
    "plt.yticks(tick_marks,class_names)# create heatmap\n",
    "sns.heatmap(pd.DataFrame(cnf_matrix), annot = True, cmap = \"YlGnBu\", fmt = 'g')\n",
    "ax.xaxis.set_label_position(\"top\")\n",
    "plt.tight_layout()\n",
    "plt.title('Confusion matrix',y = 1.1)\n",
    "plt.ylabel('Actual label')\n",
    "plt.xlabel('Predicted label')"
   ]
  },
  {
   "cell_type": "code",
   "execution_count": 833,
   "id": "8ec5306c",
   "metadata": {},
   "outputs": [],
   "source": [
    "#Problem 2 PCA Feature Extraction"
   ]
  },
  {
   "cell_type": "code",
   "execution_count": 834,
   "id": "c5563e99",
   "metadata": {},
   "outputs": [],
   "source": [
    "#Plotting the loss vs. Number of Iterations for all X explanatory values combined does\n",
    "#not seem doable with the logistic regression library. We will have to implement our own\n",
    "#logistic regression function like we did for linear regression in problem 1.\n",
    "#Logistic regression uses a log function to classify data points and will not suite \n",
    "#the training model for this dataset."
   ]
  },
  {
   "cell_type": "code",
   "execution_count": 835,
   "id": "61c77c1e",
   "metadata": {},
   "outputs": [],
   "source": [
    "#Part 2-a PCA with logistic regression"
   ]
  },
  {
   "cell_type": "code",
   "execution_count": 836,
   "id": "3f0937c0",
   "metadata": {},
   "outputs": [
    {
     "data": {
      "text/plain": [
       "array([0., 0., 0., 0., 0., 0., 0., 0., 0., 0.])"
      ]
     },
     "execution_count": 836,
     "metadata": {},
     "output_type": "execute_result"
    }
   ],
   "source": [
    "#Our Data set will consider Independent variables (X1-X30) and Label as Dependent (Y). \n",
    "X=stroke.iloc[:,[0,1,2,3,4,5,7,8,9,10,11,12,13,14,15,16,17,18,19,20,21]].values\n",
    "Y=stroke.iloc[:,6].values #Stroke outcomes\n",
    "#see here: https://pandas.pydata.org/pandas-docs/stable/reference/api/pandas.DataFrame.\n",
    "Y[0:10]"
   ]
  },
  {
   "cell_type": "code",
   "execution_count": 837,
   "id": "f64ed704",
   "metadata": {},
   "outputs": [
    {
     "data": {
      "text/html": [
       "<div>\n",
       "<style scoped>\n",
       "    .dataframe tbody tr th:only-of-type {\n",
       "        vertical-align: middle;\n",
       "    }\n",
       "\n",
       "    .dataframe tbody tr th {\n",
       "        vertical-align: top;\n",
       "    }\n",
       "\n",
       "    .dataframe thead th {\n",
       "        text-align: right;\n",
       "    }\n",
       "</style>\n",
       "<table border=\"1\" class=\"dataframe\">\n",
       "  <thead>\n",
       "    <tr style=\"text-align: right;\">\n",
       "      <th></th>\n",
       "      <th>Diabetes_012</th>\n",
       "      <th>HighBP</th>\n",
       "      <th>HighChol</th>\n",
       "      <th>CholCheck</th>\n",
       "      <th>BMI</th>\n",
       "      <th>Smoker</th>\n",
       "      <th>Stroke</th>\n",
       "      <th>HeartDiseaseorAttack</th>\n",
       "      <th>PhysActivity</th>\n",
       "      <th>Fruits</th>\n",
       "      <th>...</th>\n",
       "      <th>AnyHealthcare</th>\n",
       "      <th>NoDocbcCost</th>\n",
       "      <th>GenHlth</th>\n",
       "      <th>MentHlth</th>\n",
       "      <th>PhysHlth</th>\n",
       "      <th>DiffWalk</th>\n",
       "      <th>Sex</th>\n",
       "      <th>Age</th>\n",
       "      <th>Education</th>\n",
       "      <th>Income</th>\n",
       "    </tr>\n",
       "  </thead>\n",
       "  <tbody>\n",
       "    <tr>\n",
       "      <th>0</th>\n",
       "      <td>0.0</td>\n",
       "      <td>1.0</td>\n",
       "      <td>1.0</td>\n",
       "      <td>1.0</td>\n",
       "      <td>40.0</td>\n",
       "      <td>1.0</td>\n",
       "      <td>0.0</td>\n",
       "      <td>0.0</td>\n",
       "      <td>0.0</td>\n",
       "      <td>0.0</td>\n",
       "      <td>...</td>\n",
       "      <td>1.0</td>\n",
       "      <td>0.0</td>\n",
       "      <td>5.0</td>\n",
       "      <td>18.0</td>\n",
       "      <td>15.0</td>\n",
       "      <td>1.0</td>\n",
       "      <td>0.0</td>\n",
       "      <td>9.0</td>\n",
       "      <td>4.0</td>\n",
       "      <td>3.0</td>\n",
       "    </tr>\n",
       "    <tr>\n",
       "      <th>1</th>\n",
       "      <td>0.0</td>\n",
       "      <td>0.0</td>\n",
       "      <td>0.0</td>\n",
       "      <td>0.0</td>\n",
       "      <td>25.0</td>\n",
       "      <td>1.0</td>\n",
       "      <td>0.0</td>\n",
       "      <td>0.0</td>\n",
       "      <td>1.0</td>\n",
       "      <td>0.0</td>\n",
       "      <td>...</td>\n",
       "      <td>0.0</td>\n",
       "      <td>1.0</td>\n",
       "      <td>3.0</td>\n",
       "      <td>0.0</td>\n",
       "      <td>0.0</td>\n",
       "      <td>0.0</td>\n",
       "      <td>0.0</td>\n",
       "      <td>7.0</td>\n",
       "      <td>6.0</td>\n",
       "      <td>1.0</td>\n",
       "    </tr>\n",
       "    <tr>\n",
       "      <th>2</th>\n",
       "      <td>0.0</td>\n",
       "      <td>1.0</td>\n",
       "      <td>1.0</td>\n",
       "      <td>1.0</td>\n",
       "      <td>28.0</td>\n",
       "      <td>0.0</td>\n",
       "      <td>0.0</td>\n",
       "      <td>0.0</td>\n",
       "      <td>0.0</td>\n",
       "      <td>1.0</td>\n",
       "      <td>...</td>\n",
       "      <td>1.0</td>\n",
       "      <td>1.0</td>\n",
       "      <td>5.0</td>\n",
       "      <td>30.0</td>\n",
       "      <td>30.0</td>\n",
       "      <td>1.0</td>\n",
       "      <td>0.0</td>\n",
       "      <td>9.0</td>\n",
       "      <td>4.0</td>\n",
       "      <td>8.0</td>\n",
       "    </tr>\n",
       "    <tr>\n",
       "      <th>3</th>\n",
       "      <td>0.0</td>\n",
       "      <td>1.0</td>\n",
       "      <td>0.0</td>\n",
       "      <td>1.0</td>\n",
       "      <td>27.0</td>\n",
       "      <td>0.0</td>\n",
       "      <td>0.0</td>\n",
       "      <td>0.0</td>\n",
       "      <td>1.0</td>\n",
       "      <td>1.0</td>\n",
       "      <td>...</td>\n",
       "      <td>1.0</td>\n",
       "      <td>0.0</td>\n",
       "      <td>2.0</td>\n",
       "      <td>0.0</td>\n",
       "      <td>0.0</td>\n",
       "      <td>0.0</td>\n",
       "      <td>0.0</td>\n",
       "      <td>11.0</td>\n",
       "      <td>3.0</td>\n",
       "      <td>6.0</td>\n",
       "    </tr>\n",
       "    <tr>\n",
       "      <th>4</th>\n",
       "      <td>0.0</td>\n",
       "      <td>1.0</td>\n",
       "      <td>1.0</td>\n",
       "      <td>1.0</td>\n",
       "      <td>24.0</td>\n",
       "      <td>0.0</td>\n",
       "      <td>0.0</td>\n",
       "      <td>0.0</td>\n",
       "      <td>1.0</td>\n",
       "      <td>1.0</td>\n",
       "      <td>...</td>\n",
       "      <td>1.0</td>\n",
       "      <td>0.0</td>\n",
       "      <td>2.0</td>\n",
       "      <td>3.0</td>\n",
       "      <td>0.0</td>\n",
       "      <td>0.0</td>\n",
       "      <td>0.0</td>\n",
       "      <td>11.0</td>\n",
       "      <td>5.0</td>\n",
       "      <td>4.0</td>\n",
       "    </tr>\n",
       "  </tbody>\n",
       "</table>\n",
       "<p>5 rows × 22 columns</p>\n",
       "</div>"
      ],
      "text/plain": [
       "   Diabetes_012  HighBP  HighChol  CholCheck   BMI  Smoker  Stroke  \\\n",
       "0           0.0     1.0       1.0        1.0  40.0     1.0     0.0   \n",
       "1           0.0     0.0       0.0        0.0  25.0     1.0     0.0   \n",
       "2           0.0     1.0       1.0        1.0  28.0     0.0     0.0   \n",
       "3           0.0     1.0       0.0        1.0  27.0     0.0     0.0   \n",
       "4           0.0     1.0       1.0        1.0  24.0     0.0     0.0   \n",
       "\n",
       "   HeartDiseaseorAttack  PhysActivity  Fruits  ...  AnyHealthcare  \\\n",
       "0                   0.0           0.0     0.0  ...            1.0   \n",
       "1                   0.0           1.0     0.0  ...            0.0   \n",
       "2                   0.0           0.0     1.0  ...            1.0   \n",
       "3                   0.0           1.0     1.0  ...            1.0   \n",
       "4                   0.0           1.0     1.0  ...            1.0   \n",
       "\n",
       "   NoDocbcCost  GenHlth  MentHlth  PhysHlth  DiffWalk  Sex   Age  Education  \\\n",
       "0          0.0      5.0      18.0      15.0       1.0  0.0   9.0        4.0   \n",
       "1          1.0      3.0       0.0       0.0       0.0  0.0   7.0        6.0   \n",
       "2          1.0      5.0      30.0      30.0       1.0  0.0   9.0        4.0   \n",
       "3          0.0      2.0       0.0       0.0       0.0  0.0  11.0        3.0   \n",
       "4          0.0      2.0       3.0       0.0       0.0  0.0  11.0        5.0   \n",
       "\n",
       "   Income  \n",
       "0     3.0  \n",
       "1     1.0  \n",
       "2     8.0  \n",
       "3     6.0  \n",
       "4     4.0  \n",
       "\n",
       "[5 rows x 22 columns]"
      ]
     },
     "execution_count": 837,
     "metadata": {},
     "output_type": "execute_result"
    }
   ],
   "source": [
    "stroke.head()"
   ]
  },
  {
   "cell_type": "code",
   "execution_count": 838,
   "id": "48f20b3b",
   "metadata": {},
   "outputs": [
    {
     "data": {
      "text/plain": [
       "array([[0.        , 1.        , 1.        , 1.        , 0.3255814 ,\n",
       "        1.        , 0.        , 0.        , 0.        , 1.        ,\n",
       "        0.        , 1.        , 0.        , 1.        , 0.6       ,\n",
       "        0.5       , 1.        , 0.        , 0.66666667, 0.6       ,\n",
       "        0.28571429],\n",
       "       [0.        , 0.        , 0.        , 0.        , 0.15116279,\n",
       "        1.        , 0.        , 1.        , 0.        , 0.        ,\n",
       "        0.        , 0.        , 1.        , 0.5       , 0.        ,\n",
       "        0.        , 0.        , 0.        , 0.5       , 1.        ,\n",
       "        0.        ]])"
      ]
     },
     "execution_count": 838,
     "metadata": {},
     "output_type": "execute_result"
    }
   ],
   "source": [
    "#Doing this scaling instead\n",
    "#Now we’ll do feature scaling to scale our data between -1 and 1 using standardization.\n",
    "#Here Scaling is important because there is a significant difference between explanatory variables. \n",
    "#scalar_X = StandardScaler()\n",
    "scalar_X = MinMaxScaler()\n",
    "X = scalar_X.fit_transform(X) #New X is scaled\n",
    "X[0:2]"
   ]
  },
  {
   "cell_type": "code",
   "execution_count": 839,
   "id": "68485a4a",
   "metadata": {},
   "outputs": [
    {
     "name": "stdout",
     "output_type": "stream",
     "text": [
      "Accuracy: 0.9592005676442763\n",
      "Precision: 0.0\n",
      "Recall: 0.0\n"
     ]
    },
    {
     "name": "stderr",
     "output_type": "stream",
     "text": [
      "G:\\Machine_Learning\\lib\\site-packages\\sklearn\\metrics\\_classification.py:1245: UndefinedMetricWarning: Precision is ill-defined and being set to 0.0 due to no predicted samples. Use `zero_division` parameter to control this behavior.\n",
      "  _warn_prf(average, modifier, msg_start, len(result))\n"
     ]
    },
    {
     "name": "stdout",
     "output_type": "stream",
     "text": [
      "Accuracy: 0.9592005676442763\n",
      "Precision: 0.0\n",
      "Recall: 0.0\n"
     ]
    },
    {
     "name": "stderr",
     "output_type": "stream",
     "text": [
      "G:\\Machine_Learning\\lib\\site-packages\\sklearn\\metrics\\_classification.py:1245: UndefinedMetricWarning: Precision is ill-defined and being set to 0.0 due to no predicted samples. Use `zero_division` parameter to control this behavior.\n",
      "  _warn_prf(average, modifier, msg_start, len(result))\n"
     ]
    },
    {
     "name": "stdout",
     "output_type": "stream",
     "text": [
      "Accuracy: 0.9592005676442763\n",
      "Precision: 0.0\n",
      "Recall: 0.0\n"
     ]
    },
    {
     "name": "stderr",
     "output_type": "stream",
     "text": [
      "G:\\Machine_Learning\\lib\\site-packages\\sklearn\\metrics\\_classification.py:1245: UndefinedMetricWarning: Precision is ill-defined and being set to 0.0 due to no predicted samples. Use `zero_division` parameter to control this behavior.\n",
      "  _warn_prf(average, modifier, msg_start, len(result))\n"
     ]
    },
    {
     "name": "stdout",
     "output_type": "stream",
     "text": [
      "Accuracy: 0.9592005676442763\n",
      "Precision: 0.0\n",
      "Recall: 0.0\n"
     ]
    },
    {
     "name": "stderr",
     "output_type": "stream",
     "text": [
      "G:\\Machine_Learning\\lib\\site-packages\\sklearn\\metrics\\_classification.py:1245: UndefinedMetricWarning: Precision is ill-defined and being set to 0.0 due to no predicted samples. Use `zero_division` parameter to control this behavior.\n",
      "  _warn_prf(average, modifier, msg_start, len(result))\n"
     ]
    },
    {
     "name": "stdout",
     "output_type": "stream",
     "text": [
      "Accuracy: 0.9592005676442763\n",
      "Precision: 0.0\n",
      "Recall: 0.0\n"
     ]
    },
    {
     "name": "stderr",
     "output_type": "stream",
     "text": [
      "G:\\Machine_Learning\\lib\\site-packages\\sklearn\\metrics\\_classification.py:1245: UndefinedMetricWarning: Precision is ill-defined and being set to 0.0 due to no predicted samples. Use `zero_division` parameter to control this behavior.\n",
      "  _warn_prf(average, modifier, msg_start, len(result))\n"
     ]
    },
    {
     "name": "stdout",
     "output_type": "stream",
     "text": [
      "Accuracy: 0.9592005676442763\n",
      "Precision: 0.0\n",
      "Recall: 0.0\n"
     ]
    },
    {
     "name": "stderr",
     "output_type": "stream",
     "text": [
      "G:\\Machine_Learning\\lib\\site-packages\\sklearn\\metrics\\_classification.py:1245: UndefinedMetricWarning: Precision is ill-defined and being set to 0.0 due to no predicted samples. Use `zero_division` parameter to control this behavior.\n",
      "  _warn_prf(average, modifier, msg_start, len(result))\n"
     ]
    },
    {
     "name": "stdout",
     "output_type": "stream",
     "text": [
      "Accuracy: 0.9592005676442763\n",
      "Precision: 0.0\n",
      "Recall: 0.0\n"
     ]
    },
    {
     "name": "stderr",
     "output_type": "stream",
     "text": [
      "G:\\Machine_Learning\\lib\\site-packages\\sklearn\\metrics\\_classification.py:1245: UndefinedMetricWarning: Precision is ill-defined and being set to 0.0 due to no predicted samples. Use `zero_division` parameter to control this behavior.\n",
      "  _warn_prf(average, modifier, msg_start, len(result))\n"
     ]
    },
    {
     "name": "stdout",
     "output_type": "stream",
     "text": [
      "Accuracy: 0.959180857773573\n",
      "Precision: 0.0\n",
      "Recall: 0.0\n",
      "Accuracy: 0.959180857773573\n",
      "Precision: 0.0\n",
      "Recall: 0.0\n",
      "Accuracy: 0.9592005676442763\n",
      "Precision: 0.0\n",
      "Recall: 0.0\n"
     ]
    },
    {
     "name": "stderr",
     "output_type": "stream",
     "text": [
      "G:\\Machine_Learning\\lib\\site-packages\\sklearn\\metrics\\_classification.py:1245: UndefinedMetricWarning: Precision is ill-defined and being set to 0.0 due to no predicted samples. Use `zero_division` parameter to control this behavior.\n",
      "  _warn_prf(average, modifier, msg_start, len(result))\n"
     ]
    },
    {
     "name": "stdout",
     "output_type": "stream",
     "text": [
      "Accuracy: 0.9591414380321666\n",
      "Precision: 0.2857142857142857\n",
      "Recall: 0.000966183574879227\n",
      "Accuracy: 0.9591414380321666\n",
      "Precision: 0.2857142857142857\n",
      "Recall: 0.000966183574879227\n",
      "Accuracy: 0.9591414380321666\n",
      "Precision: 0.36363636363636365\n",
      "Recall: 0.001932367149758454\n",
      "Accuracy: 0.9591414380321666\n",
      "Precision: 0.36363636363636365\n",
      "Recall: 0.001932367149758454\n",
      "Accuracy: 0.9590823084200568\n",
      "Precision: 0.39285714285714285\n",
      "Recall: 0.005314009661835749\n",
      "Accuracy: 0.9591217281614632\n",
      "Precision: 0.4090909090909091\n",
      "Recall: 0.004347826086956522\n",
      "Accuracy: 0.9590823084200568\n",
      "Precision: 0.38461538461538464\n",
      "Recall: 0.004830917874396135\n",
      "Accuracy: 0.95910201829076\n",
      "Precision: 0.391304347826087\n",
      "Recall: 0.004347826086956522\n",
      "Accuracy: 0.959180857773573\n",
      "Precision: 0.47368421052631576\n",
      "Recall: 0.004347826086956522\n",
      "Accuracy: 0.9592005676442763\n",
      "Precision: 0.5\n",
      "Recall: 0.004830917874396135\n",
      "[[2, 0.9592005676442763, 0.0, 0.0], [3, 0.9592005676442763, 0.0, 0.0], [4, 0.9592005676442763, 0.0, 0.0], [5, 0.9592005676442763, 0.0, 0.0], [6, 0.9592005676442763, 0.0, 0.0], [7, 0.9592005676442763, 0.0, 0.0], [8, 0.9592005676442763, 0.0, 0.0], [9, 0.959180857773573, 0.0, 0.0], [10, 0.959180857773573, 0.0, 0.0], [11, 0.9592005676442763, 0.0, 0.0], [12, 0.9591414380321666, 0.2857142857142857, 0.000966183574879227], [13, 0.9591414380321666, 0.2857142857142857, 0.000966183574879227], [14, 0.9591414380321666, 0.36363636363636365, 0.001932367149758454], [15, 0.9591414380321666, 0.36363636363636365, 0.001932367149758454], [16, 0.9590823084200568, 0.39285714285714285, 0.005314009661835749], [17, 0.9591217281614632, 0.4090909090909091, 0.004347826086956522], [18, 0.9590823084200568, 0.38461538461538464, 0.004830917874396135], [19, 0.95910201829076, 0.391304347826087, 0.004347826086956522], [20, 0.959180857773573, 0.47368421052631576, 0.004347826086956522], [21, 0.9592005676442763, 0.5, 0.004830917874396135]]\n"
     ]
    }
   ],
   "source": [
    "#Using Principle Component Analysis with specific N number of independent trainings\n",
    "#Setting up function to plot precision, recall, and accuracy, over different K values.\n",
    "#This involves creating a matrix to iterate over for the three results.\n",
    "from sklearn.decomposition import PCA \n",
    "pcaDF = []\n",
    "\n",
    "for i in range(20): #n_components must be between 0 and min(n_samples, n_features) = 30 with svd_solver='full'\n",
    "    n_components = i + 2 #at least one array or dtype is required\n",
    "    pca = PCA(n_components) #Iterating through all n values until reaching K.\n",
    "    #principalComponents = pca.fit_transform(X_train)\n",
    "    #-----------------------------------------------------------#\n",
    "    principalComponents_train = pca.fit_transform(X)\n",
    "    #------------------------------------------------------------#\n",
    "    principalDf = pd.DataFrame(data = principalComponents_train, columns = range(n_components))\n",
    "                 #, columns = ['principal component 1', 'principal component 2']) \n",
    "    finalDf = pd.concat([principalDf, stroke[['Stroke']]], axis = 1)\n",
    "    Y_principal = finalDf.iloc[:,[n_components]].values\n",
    "    X_principal = finalDf.iloc[:,0:(n_components - 1)] \n",
    "    \n",
    "    #Doing Training and Test Split to evaluate accuracy.\n",
    "    np.random.seed(0)\n",
    "    X_train, X_test, Y_train, Y_test = train_test_split(X_principal,Y_principal,train_size =0.8,test_size = 0.2,random_state = 1)\n",
    "    \n",
    "    #Using Logistic Regression for Classification\n",
    "    classifier_L = LogisticRegression(random_state = 0)\n",
    "    classifier_L.fit(X_train, np.ravel(Y_train)) #Changed the shape of y to (n_samples, ) \n",
    "    \n",
    "    Y_pred1 = classifier_L.predict(X_test)\n",
    "    Y_pred1[0:9]\n",
    "    \n",
    "    #Using Confusion matrix representing binary classifiers so we can get accuracy of our model.\n",
    "    cnf_matrix = confusion_matrix(Y_test,Y_pred1)\n",
    "    cnf_matrix\n",
    "    \n",
    "    #We are evaluating the model using model evaluation metrics for accuracy.\n",
    "    #Accuracy over loss is what needs to be plotted\n",
    "    from sklearn import metrics\n",
    "    Acc_score1 = metrics.accuracy_score(Y_test,Y_pred1)\n",
    "    print(\"Accuracy:\", Acc_score1)\n",
    "    Prec_score1 = metrics.precision_score(Y_test,Y_pred1)\n",
    "    print(\"Precision:\", Prec_score1)\n",
    "    Rec_score1 = metrics.recall_score(Y_test,Y_pred1)\n",
    "    print(\"Recall:\", Rec_score1)\n",
    "    \n",
    "    pcaDF.append([n_components,Acc_score1,Prec_score1,Rec_score1])\n",
    "print(pcaDF)\n",
    "    \n",
    "    "
   ]
  },
  {
   "cell_type": "code",
   "execution_count": 840,
   "id": "ac7ace98",
   "metadata": {},
   "outputs": [],
   "source": [
    "#Plotting classification accuracy, precision, and recall over different numbers of Ks"
   ]
  },
  {
   "cell_type": "code",
   "execution_count": 841,
   "id": "a3a62742",
   "metadata": {},
   "outputs": [],
   "source": [
    "#function to get specific items from lists\n",
    "def Parse(Value, i):\n",
    "    return [item[i] for item in Value]"
   ]
  },
  {
   "cell_type": "code",
   "execution_count": 842,
   "id": "90bf8582",
   "metadata": {},
   "outputs": [
    {
     "data": {
      "image/png": "[encoded data removed]",
      "text/plain": [
       "<Figure size 432x288 with 1 Axes>"
      ]
     },
     "metadata": {
      "needs_background": "light"
     },
     "output_type": "display_data"
    }
   ],
   "source": [
    "N_to_K = Parse(pcaDF,0)\n",
    "Acc_Vals = Parse(pcaDF,1)\n",
    "Prec_Vals = Parse(pcaDF,2)\n",
    "Recall_Vals = Parse(pcaDF,3)\n",
    "\n",
    "plt.plot(N_to_K, Acc_Vals, 'r', label = 'Accuracy',linewidth=3)\n",
    "plt.plot(N_to_K, Prec_Vals, 'g', label = 'Precision', linewidth=3)\n",
    "plt.plot(N_to_K, Recall_Vals,  'b', label = 'Recall', linewidth=3)\n",
    "\n",
    "plt.title(\"Results over different K values for PCA\")\n",
    "plt.xlabel(\"N Value\")\n",
    "plt.ylabel(\"Results from Accuracy, Precision, and Recall\")\n",
    "plt.legend(loc = 'lower right')\n",
    "plt.show()"
   ]
  },
  {
   "cell_type": "code",
   "execution_count": 843,
   "id": "9592a073",
   "metadata": {},
   "outputs": [],
   "source": [
    "#Part 2-b PCA with Naive Bayes"
   ]
  },
  {
   "cell_type": "code",
   "execution_count": 844,
   "id": "564c0b02",
   "metadata": {},
   "outputs": [
    {
     "data": {
      "text/plain": [
       "array([0., 0., 0., 0., 0., 0., 0., 0., 0., 0.])"
      ]
     },
     "execution_count": 844,
     "metadata": {},
     "output_type": "execute_result"
    }
   ],
   "source": [
    "#Our Data set will consider Independent variables (X1-X30) and Label as Dependent (Y). \n",
    "X=stroke.iloc[:,[0,1,2,3,4,5,7,8,9,10,11,12,13,14,15,16,17,18,19,20,21]].values\n",
    "Y=stroke.iloc[:,6].values #Stroke outcomes\n",
    "#see here: https://pandas.pydata.org/pandas-docs/stable/reference/api/pandas.DataFrame.\n",
    "Y[0:10]"
   ]
  },
  {
   "cell_type": "code",
   "execution_count": 845,
   "id": "4cf70815",
   "metadata": {},
   "outputs": [
    {
     "data": {
      "text/plain": [
       "array([[0.        , 1.        , 1.        , 1.        , 0.3255814 ,\n",
       "        1.        , 0.        , 0.        , 0.        , 1.        ,\n",
       "        0.        , 1.        , 0.        , 1.        , 0.6       ,\n",
       "        0.5       , 1.        , 0.        , 0.66666667, 0.6       ,\n",
       "        0.28571429],\n",
       "       [0.        , 0.        , 0.        , 0.        , 0.15116279,\n",
       "        1.        , 0.        , 1.        , 0.        , 0.        ,\n",
       "        0.        , 0.        , 1.        , 0.5       , 0.        ,\n",
       "        0.        , 0.        , 0.        , 0.5       , 1.        ,\n",
       "        0.        ]])"
      ]
     },
     "execution_count": 845,
     "metadata": {},
     "output_type": "execute_result"
    }
   ],
   "source": [
    "#Doing this scaling instead\n",
    "#Now we’ll do feature scaling to scale our data between -1 and 1 using standardization.\n",
    "#Here Scaling is important because there is a significant difference between explanatory variables. \n",
    "#scalar_X = StandardScaler()\n",
    "scalar_X = MinMaxScaler()\n",
    "X = scalar_X.fit_transform(X) #New X is scaled\n",
    "X[0:2]"
   ]
  },
  {
   "cell_type": "code",
   "execution_count": 846,
   "id": "3642eed8",
   "metadata": {},
   "outputs": [
    {
     "name": "stdout",
     "output_type": "stream",
     "text": [
      "Accuracy: 0.9591414380321666\n",
      "Precision: 0.38461538461538464\n",
      "Recall: 0.0024154589371980675\n",
      "Accuracy: 0.959180857773573\n",
      "Precision: 0.4\n",
      "Recall: 0.000966183574879227\n",
      "Accuracy: 0.9590034689372438\n",
      "Precision: 0.35294117647058826\n",
      "Recall: 0.005797101449275362\n",
      "Accuracy: 0.9589837590665405\n",
      "Precision: 0.3333333333333333\n",
      "Recall: 0.005314009661835749\n",
      "Accuracy: 0.95831362346263\n",
      "Precision: 0.2897196261682243\n",
      "Recall: 0.01497584541062802\n",
      "Accuracy: 0.9578208766950489\n",
      "Precision: 0.2535211267605634\n",
      "Recall: 0.017391304347826087\n",
      "Accuracy: 0.9524992116051719\n",
      "Precision: 0.22312703583061888\n",
      "Recall: 0.06618357487922705\n",
      "Accuracy: 0.9521444339325134\n",
      "Precision: 0.22796352583586627\n",
      "Recall: 0.07246376811594203\n",
      "Accuracy: 0.9469804478082624\n",
      "Precision: 0.21818181818181817\n",
      "Recall: 0.11594202898550725\n",
      "Accuracy: 0.9442210659098076\n",
      "Precision: 0.21976401179941002\n",
      "Recall: 0.14396135265700483\n",
      "Accuracy: 0.9242155471460107\n",
      "Precision: 0.19864176570458403\n",
      "Recall: 0.2826086956521739\n",
      "Accuracy: 0.9141240933459477\n",
      "Precision: 0.18867410835829024\n",
      "Recall: 0.3347826086956522\n",
      "Accuracy: 0.9080928729107537\n",
      "Precision: 0.17820799205758253\n",
      "Recall: 0.3468599033816425\n",
      "Accuracy: 0.9065752128666036\n",
      "Precision: 0.17675544794188863\n",
      "Recall: 0.3526570048309179\n",
      "Accuracy: 0.9052743614001892\n",
      "Precision: 0.17475035663338087\n",
      "Recall: 0.35507246376811596\n",
      "Accuracy: 0.9019433932513403\n",
      "Precision: 0.1695108077360637\n",
      "Recall: 0.35990338164251207\n",
      "Accuracy: 0.902239041311889\n",
      "Precision: 0.16994061215166742\n",
      "Recall: 0.35942028985507246\n",
      "Accuracy: 0.9007016713970356\n",
      "Precision: 0.1699288256227758\n",
      "Recall: 0.3690821256038647\n",
      "Accuracy: 0.9006031220435194\n",
      "Precision: 0.1694462975316878\n",
      "Recall: 0.3681159420289855\n",
      "Accuracy: 0.8999921160517187\n",
      "Precision: 0.16887125220458554\n",
      "Recall: 0.370048309178744\n",
      "[[2, 0.9591414380321666, 0.38461538461538464, 0.0024154589371980675], [3, 0.959180857773573, 0.4, 0.000966183574879227], [4, 0.9590034689372438, 0.35294117647058826, 0.005797101449275362], [5, 0.9589837590665405, 0.3333333333333333, 0.005314009661835749], [6, 0.95831362346263, 0.2897196261682243, 0.01497584541062802], [7, 0.9578208766950489, 0.2535211267605634, 0.017391304347826087], [8, 0.9524992116051719, 0.22312703583061888, 0.06618357487922705], [9, 0.9521444339325134, 0.22796352583586627, 0.07246376811594203], [10, 0.9469804478082624, 0.21818181818181817, 0.11594202898550725], [11, 0.9442210659098076, 0.21976401179941002, 0.14396135265700483], [12, 0.9242155471460107, 0.19864176570458403, 0.2826086956521739], [13, 0.9141240933459477, 0.18867410835829024, 0.3347826086956522], [14, 0.9080928729107537, 0.17820799205758253, 0.3468599033816425], [15, 0.9065752128666036, 0.17675544794188863, 0.3526570048309179], [16, 0.9052743614001892, 0.17475035663338087, 0.35507246376811596], [17, 0.9019433932513403, 0.1695108077360637, 0.35990338164251207], [18, 0.902239041311889, 0.16994061215166742, 0.35942028985507246], [19, 0.9007016713970356, 0.1699288256227758, 0.3690821256038647], [20, 0.9006031220435194, 0.1694462975316878, 0.3681159420289855], [21, 0.8999921160517187, 0.16887125220458554, 0.370048309178744]]\n"
     ]
    }
   ],
   "source": [
    "#Using Principle Component Analysis with specific N number of independent trainings\n",
    "#Setting up function to plot precision, recall, and accuracy, over different K values.\n",
    "#This involves creating a matrix to iterate over for the three results.\n",
    "pcaDF = []\n",
    "\n",
    "for i in range(20): #n_components must be between 0 and min(n_samples, n_features) = 30 with svd_solver='full'\n",
    "    n_components = i + 2 #at least one array or dtype is required\n",
    "    pca = PCA(n_components) #Iterating through all n values until reaching K.\n",
    "    #principalComponents = pca.fit_transform(X_train)\n",
    "    #-----------------------------------------------------------#\n",
    "    principalComponents_train = pca.fit_transform(X)\n",
    "    #------------------------------------------------------------#\n",
    "    principalDf = pd.DataFrame(data = principalComponents_train, columns = range(n_components))\n",
    "                 #, columns = ['principal component 1', 'principal component 2']) \n",
    "    finalDf = pd.concat([principalDf, stroke[['Stroke']]], axis = 1)\n",
    "    Y_principal = finalDf.iloc[:,[n_components]].values\n",
    "    X_principal = finalDf.iloc[:,0:(n_components - 1)] \n",
    "    \n",
    "    #Doing Training and Test Split to evaluate accuracy.\n",
    "    np.random.seed(0)\n",
    "    X_train, X_test, Y_train, Y_test = train_test_split(X_principal,Y_principal,train_size =0.8,test_size = 0.2,random_state = 1)\n",
    "    \n",
    "    #Using Logistic Regression for Classification\n",
    "    classifier_G = GaussianNB()\n",
    "    classifier_G.fit(X_train, np.ravel(Y_train)) #Changed the shape of y to (n_samples, ) \n",
    "    \n",
    "    Y_pred1 = classifier_G.predict(X_test)\n",
    "    Y_pred1[0:9]\n",
    "    \n",
    "    #Using Confusion matrix representing binary classifiers so we can get accuracy of our model.\n",
    "    cnf_matrix = confusion_matrix(Y_test,Y_pred1)\n",
    "    cnf_matrix\n",
    "    \n",
    "    #We are evaluating the model using model evaluation metrics for accuracy.\n",
    "    #Accuracy over loss is what needs to be plotted\n",
    "    from sklearn import metrics\n",
    "    Acc_score1 = metrics.accuracy_score(Y_test,Y_pred1)\n",
    "    print(\"Accuracy:\", Acc_score1)\n",
    "    Prec_score1 = metrics.precision_score(Y_test,Y_pred1)\n",
    "    print(\"Precision:\", Prec_score1)\n",
    "    Rec_score1 = metrics.recall_score(Y_test,Y_pred1)\n",
    "    print(\"Recall:\", Rec_score1)\n",
    "    \n",
    "    pcaDF.append([n_components,Acc_score1,Prec_score1,Rec_score1])\n",
    "print(pcaDF)\n",
    "    "
   ]
  },
  {
   "cell_type": "code",
   "execution_count": 847,
   "id": "c46bf506",
   "metadata": {},
   "outputs": [],
   "source": [
    "#Plotting classification accuracy, precision, and recall over different numbers of Ks"
   ]
  },
  {
   "cell_type": "code",
   "execution_count": 848,
   "id": "d865a8da",
   "metadata": {},
   "outputs": [],
   "source": [
    "#function to get specific items from lists\n",
    "def Parse(Value, i):\n",
    "    return [item[i] for item in Value]"
   ]
  },
  {
   "cell_type": "code",
   "execution_count": 849,
   "id": "e2a684ab",
   "metadata": {},
   "outputs": [
    {
     "data": {
      "image/png": "[encoded data removed]",
      "text/plain": [
       "<Figure size 432x288 with 1 Axes>"
      ]
     },
     "metadata": {
      "needs_background": "light"
     },
     "output_type": "display_data"
    }
   ],
   "source": [
    "N_to_K = Parse(pcaDF,0)\n",
    "Acc_Vals = Parse(pcaDF,1)\n",
    "Prec_Vals = Parse(pcaDF,2)\n",
    "Recall_Vals = Parse(pcaDF,3)\n",
    "\n",
    "plt.plot(N_to_K, Acc_Vals, 'r', label = 'Accuracy',linewidth=3)\n",
    "plt.plot(N_to_K, Prec_Vals, 'g', label = 'Precision', linewidth=3)\n",
    "plt.plot(N_to_K, Recall_Vals,  'b', label = 'Recall', linewidth=3)\n",
    "\n",
    "plt.title(\"Results over different K values for PCA\")\n",
    "plt.xlabel(\"N Value\")\n",
    "plt.ylabel(\"Results from Accuracy, Precision, and Recall\")\n",
    "plt.legend(loc = 'lower right')\n",
    "plt.show()"
   ]
  },
  {
   "cell_type": "code",
   "execution_count": 850,
   "id": "5389c1f3",
   "metadata": {},
   "outputs": [],
   "source": [
    "#Part 3-a Using LDA feature extraction and Naive Bays Classifier for training"
   ]
  },
  {
   "cell_type": "code",
   "execution_count": 851,
   "id": "4da77a82",
   "metadata": {},
   "outputs": [
    {
     "data": {
      "text/plain": [
       "array([0., 0., 0., 0., 0., 0., 0., 0., 0., 0.])"
      ]
     },
     "execution_count": 851,
     "metadata": {},
     "output_type": "execute_result"
    }
   ],
   "source": [
    "#Our Data set will consider Independent variables (X1-X30) and Label as Dependent (Y). \n",
    "X=stroke.iloc[:,[0,1,2,3,4,5,7,8,9,10,11,12,13,14,15,16,17,18,19,20,21]].values\n",
    "Y=stroke.iloc[:,6].values #Stroke outcomes\n",
    "#see here: https://pandas.pydata.org/pandas-docs/stable/reference/api/pandas.DataFrame.\n",
    "Y[0:10]"
   ]
  },
  {
   "cell_type": "code",
   "execution_count": 852,
   "id": "c3906d50",
   "metadata": {},
   "outputs": [
    {
     "data": {
      "text/plain": [
       "array([[0.        , 1.        , 1.        , 1.        , 0.3255814 ,\n",
       "        1.        , 0.        , 0.        , 0.        , 1.        ,\n",
       "        0.        , 1.        , 0.        , 1.        , 0.6       ,\n",
       "        0.5       , 1.        , 0.        , 0.66666667, 0.6       ,\n",
       "        0.28571429],\n",
       "       [0.        , 0.        , 0.        , 0.        , 0.15116279,\n",
       "        1.        , 0.        , 1.        , 0.        , 0.        ,\n",
       "        0.        , 0.        , 1.        , 0.5       , 0.        ,\n",
       "        0.        , 0.        , 0.        , 0.5       , 1.        ,\n",
       "        0.        ]])"
      ]
     },
     "execution_count": 852,
     "metadata": {},
     "output_type": "execute_result"
    }
   ],
   "source": [
    "#Now we’ll do feature scaling to scale our data between -1 and 1 using standardization.\n",
    "#Here Scaling is important because there is a significant difference between explanatory variables. \n",
    "#scalar_X = StandardScaler()\n",
    "scalar_X = MinMaxScaler()\n",
    "X = scalar_X.fit_transform(X) #New X_train is scaled\n",
    "X[0:2]"
   ]
  },
  {
   "cell_type": "code",
   "execution_count": 853,
   "id": "2d280888",
   "metadata": {},
   "outputs": [],
   "source": [
    "#Fitting LDA to breast cancer dataset: \n",
    "#Our dataset only has 2 classes. Therefore value of N can only be N-1, 1 for this instance:\n",
    "lda = LinearDiscriminantAnalysis(n_components = 1) #n_components cannot be larger than min(n_features, n_classes - 1).\n",
    "\n",
    "#lda_t = lda.fit_transform(X_train,Y_train) \n",
    "lda_train = lda.fit_transform(X,Y)\n",
    "#lda_test = lda.transform(X_test,Y_test)\n",
    "#Number of components (<= min(n_classes - 1, n_features)) for dimensionality reduction."
   ]
  },
  {
   "cell_type": "code",
   "execution_count": 854,
   "id": "e2b5c9a8",
   "metadata": {},
   "outputs": [],
   "source": [
    "#Doing training and test split\n",
    "\n",
    "np.random.seed(0)\n",
    "X_train, X_test, Y_train, Y_test = train_test_split(lda_train,Y,train_size =0.8, test_size = 0.2, random_state = 1)"
   ]
  },
  {
   "cell_type": "code",
   "execution_count": 855,
   "id": "f28b0750",
   "metadata": {},
   "outputs": [
    {
     "data": {
      "text/plain": [
       "GaussianNB()"
      ]
     },
     "execution_count": 855,
     "metadata": {},
     "output_type": "execute_result"
    }
   ],
   "source": [
    "#Using Naive Gaussian Bays for classification\n",
    "classifier_G = GaussianNB()\n",
    "classifier_G.fit(X_train,Y_train)"
   ]
  },
  {
   "cell_type": "code",
   "execution_count": 856,
   "id": "4862d522",
   "metadata": {},
   "outputs": [
    {
     "data": {
      "text/plain": [
       "array([0., 0., 0., ..., 1., 0., 0.])"
      ]
     },
     "execution_count": 856,
     "metadata": {},
     "output_type": "execute_result"
    }
   ],
   "source": [
    "Y_pred = classifier_G.predict(X_test)\n",
    "Y_pred"
   ]
  },
  {
   "cell_type": "code",
   "execution_count": 857,
   "id": "88905699",
   "metadata": {},
   "outputs": [
    {
     "data": {
      "text/plain": [
       "array([[47418,  1248],\n",
       "       [ 1623,   447]], dtype=int64)"
      ]
     },
     "execution_count": 857,
     "metadata": {},
     "output_type": "execute_result"
    }
   ],
   "source": [
    "conf_matrix = confusion_matrix(Y_test,Y_pred)\n",
    "conf_matrix"
   ]
  },
  {
   "cell_type": "code",
   "execution_count": 858,
   "id": "277a38ab",
   "metadata": {},
   "outputs": [
    {
     "name": "stdout",
     "output_type": "stream",
     "text": [
      "Accuracy: 0.9434129612109745\n",
      "Precision: 0.26371681415929205\n",
      "Recall: 0.21594202898550724\n"
     ]
    }
   ],
   "source": [
    "#We are evaluating the model using model evaluation metrics for accuracy, precision, and recall.\n",
    "print(\"Accuracy:\",metrics.accuracy_score(Y_test,Y_pred))\n",
    "print(\"Precision:\",metrics.precision_score(Y_test,Y_pred))\n",
    "print(\"Recall:\",metrics.recall_score(Y_test,Y_pred))"
   ]
  },
  {
   "cell_type": "code",
   "execution_count": 859,
   "id": "c11f2d8c",
   "metadata": {},
   "outputs": [
    {
     "data": {
      "text/plain": [
       "Text(0.5, 257.44, 'Predicted label')"
      ]
     },
     "execution_count": 859,
     "metadata": {},
     "output_type": "execute_result"
    },
    {
     "data": {
      "image/png": "[encoded data removed]",
      "text/plain": [
       "<Figure size 432x288 with 2 Axes>"
      ]
     },
     "metadata": {
      "needs_background": "light"
     },
     "output_type": "display_data"
    }
   ],
   "source": [
    "#Plotting the confustion Matrix\n",
    "class_names = [0,1] # name of classes\n",
    "fig, ax = plt.subplots()\n",
    "tick_marks = np.arange(len(class_names))\n",
    "plt.xticks(tick_marks,class_names)\n",
    "plt.yticks(tick_marks,class_names)# create heatmap\n",
    "sns.heatmap(pd.DataFrame(cnf_matrix), annot = True, cmap = \"YlGnBu\", fmt = 'g')\n",
    "ax.xaxis.set_label_position(\"top\")\n",
    "plt.tight_layout()\n",
    "plt.title('Confusion matrix',y = 1.1)\n",
    "plt.ylabel('Actual label')\n",
    "plt.xlabel('Predicted label')"
   ]
  },
  {
   "cell_type": "code",
   "execution_count": 860,
   "id": "eeef4e36",
   "metadata": {},
   "outputs": [],
   "source": [
    "#Cannot plot classification accuracy, precision, and recall over different numbers of N given N can only equal 1."
   ]
  },
  {
   "cell_type": "code",
   "execution_count": 861,
   "id": "9de64845",
   "metadata": {},
   "outputs": [],
   "source": [
    "#Part 3-b Using LDA feature extraction and Logistic Regression for training"
   ]
  },
  {
   "cell_type": "code",
   "execution_count": 862,
   "id": "a4107b60",
   "metadata": {},
   "outputs": [],
   "source": [
    "#Our Data set will consider Independent variables (X1-X30) and Label as Dependent (Y). \n",
    "X=stroke.iloc[:,[0,1,2,3,4,5,7,8,9,10,11,12,13,14,15,16,17,18,19,20,21]].values\n",
    "Y=stroke.iloc[:,6].values #Stroke outcomes\n",
    "#see here: https://pandas.pydata.org/pandas-docs/stable/reference/api/pandas.DataFrame."
   ]
  },
  {
   "cell_type": "code",
   "execution_count": 863,
   "id": "ab1f1d3c",
   "metadata": {},
   "outputs": [
    {
     "data": {
      "text/plain": [
       "array([[0.        , 1.        , 1.        , 1.        , 0.3255814 ,\n",
       "        1.        , 0.        , 0.        , 0.        , 1.        ,\n",
       "        0.        , 1.        , 0.        , 1.        , 0.6       ,\n",
       "        0.5       , 1.        , 0.        , 0.66666667, 0.6       ,\n",
       "        0.28571429],\n",
       "       [0.        , 0.        , 0.        , 0.        , 0.15116279,\n",
       "        1.        , 0.        , 1.        , 0.        , 0.        ,\n",
       "        0.        , 0.        , 1.        , 0.5       , 0.        ,\n",
       "        0.        , 0.        , 0.        , 0.5       , 1.        ,\n",
       "        0.        ]])"
      ]
     },
     "execution_count": 863,
     "metadata": {},
     "output_type": "execute_result"
    }
   ],
   "source": [
    "#Now we’ll do feature scaling to scale our data between -1 and 1 using standardization.\n",
    "#Here Scaling is important because there is a significant difference between explanatory variables. \n",
    "#scalar_X = StandardScaler()\n",
    "scalar_X = MinMaxScaler()\n",
    "X = scalar_X.fit_transform(X) #New X_train is scaled\n",
    "X[0:2]"
   ]
  },
  {
   "cell_type": "code",
   "execution_count": 864,
   "id": "c4baec86",
   "metadata": {},
   "outputs": [],
   "source": [
    "#Fitting LDA to breast cancer dataset: \n",
    "lda = LinearDiscriminantAnalysis(n_components = 1) \n",
    "#lda_t = lda.fit_transform(X_train,Y_train)\n",
    "lda_train = lda.fit_transform(X,Y)\n",
    "#lda_test = lda.transform(X_test,Y_test)\n",
    "#Number of components (<= min(n_classes - 1, n_features)) for dimensionality reduction."
   ]
  },
  {
   "cell_type": "code",
   "execution_count": 865,
   "id": "f3760a55",
   "metadata": {},
   "outputs": [],
   "source": [
    "#Doing Training and Test Split to evaluate accuracy.\n",
    "np.random.seed(0)\n",
    "X_train, X_test, Y_train, Y_test = train_test_split(lda_train,Y,train_size =0.8, test_size = 0.2, random_state = 1)"
   ]
  },
  {
   "cell_type": "code",
   "execution_count": 866,
   "id": "f540ce43",
   "metadata": {},
   "outputs": [],
   "source": [
    "#plt.xlabel('LD1') \n",
    "#plt.ylabel('LD2') \n",
    "#plt.scatter(lda_t[:,0],lda_t[:,1],c=y,cmap='rainbow',edgecolors='r')"
   ]
  },
  {
   "cell_type": "code",
   "execution_count": 867,
   "id": "da44e61b",
   "metadata": {},
   "outputs": [
    {
     "data": {
      "text/plain": [
       "LogisticRegression(random_state=0)"
      ]
     },
     "execution_count": 867,
     "metadata": {},
     "output_type": "execute_result"
    }
   ],
   "source": [
    "#Using Naive Logistic Regression for classification\n",
    "classifier_L = LogisticRegression(random_state=0)\n",
    "classifier_L.fit(X_train,Y_train)"
   ]
  },
  {
   "cell_type": "code",
   "execution_count": 868,
   "id": "59047814",
   "metadata": {},
   "outputs": [],
   "source": [
    "Y2_pred = classifier_L.predict(X_test)"
   ]
  },
  {
   "cell_type": "code",
   "execution_count": 869,
   "id": "c812e2e1",
   "metadata": {},
   "outputs": [
    {
     "data": {
      "text/plain": [
       "array([0., 0., 0., 0., 0., 0., 0., 0., 0.])"
      ]
     },
     "execution_count": 869,
     "metadata": {},
     "output_type": "execute_result"
    }
   ],
   "source": [
    "Y2_pred[0:9]"
   ]
  },
  {
   "cell_type": "code",
   "execution_count": 870,
   "id": "0d58dae8",
   "metadata": {},
   "outputs": [
    {
     "data": {
      "text/plain": [
       "array([[48665,     1],\n",
       "       [ 2067,     3]], dtype=int64)"
      ]
     },
     "execution_count": 870,
     "metadata": {},
     "output_type": "execute_result"
    }
   ],
   "source": [
    "#Using Confusion matrix representing binary classifiers so we can get accuracy of our model.\n",
    "cnf_matrix = confusion_matrix(Y_test,Y2_pred)\n",
    "cnf_matrix"
   ]
  },
  {
   "cell_type": "code",
   "execution_count": 871,
   "id": "b97a53fe",
   "metadata": {},
   "outputs": [
    {
     "name": "stdout",
     "output_type": "stream",
     "text": [
      "Accuracy: 0.9592399873856827\n",
      "Precision: 0.75\n",
      "Recall: 0.0014492753623188406\n"
     ]
    }
   ],
   "source": [
    "#We are evaluating the model using model evaluation metrics for accuracy, precision, and recall.\n",
    "print(\"Accuracy:\",metrics.accuracy_score(Y_test,Y2_pred))\n",
    "print(\"Precision:\",metrics.precision_score(Y_test,Y2_pred))\n",
    "print(\"Recall:\",metrics.recall_score(Y_test,Y2_pred))"
   ]
  },
  {
   "cell_type": "code",
   "execution_count": 872,
   "id": "cb5859d0",
   "metadata": {},
   "outputs": [
    {
     "data": {
      "text/plain": [
       "Text(0.5, 257.44, 'Predicted label')"
      ]
     },
     "execution_count": 872,
     "metadata": {},
     "output_type": "execute_result"
    },
    {
     "data": {
      "image/png": "[encoded data removed]",
      "text/plain": [
       "<Figure size 432x288 with 2 Axes>"
      ]
     },
     "metadata": {
      "needs_background": "light"
     },
     "output_type": "display_data"
    }
   ],
   "source": [
    "#Plotting the confustion Matrix\n",
    "class_names = [0,1] # name of classes\n",
    "fig, ax = plt.subplots()\n",
    "tick_marks = np.arange(len(class_names))\n",
    "plt.xticks(tick_marks,class_names)\n",
    "plt.yticks(tick_marks,class_names)# create heatmap\n",
    "sns.heatmap(pd.DataFrame(cnf_matrix), annot = True, cmap = \"YlGnBu\", fmt = 'g')\n",
    "ax.xaxis.set_label_position(\"top\")\n",
    "plt.tight_layout()\n",
    "plt.title('Confusion matrix',y = 1.1)\n",
    "plt.ylabel('Actual label')\n",
    "plt.xlabel('Predicted label')"
   ]
  }
 ],
 "metadata": {
  "kernelspec": {
   "display_name": "Python 3",
   "language": "python",
   "name": "python3"
  },
  "language_info": {
   "codemirror_mode": {
    "name": "ipython",
    "version": 3
   },
   "file_extension": ".py",
   "mimetype": "text/x-python",
   "name": "python",
   "nbconvert_exporter": "python",
   "pygments_lexer": "ipython3",
   "version": "3.8.8"
  }
 },
 "nbformat": 4,
 "nbformat_minor": 5
}
